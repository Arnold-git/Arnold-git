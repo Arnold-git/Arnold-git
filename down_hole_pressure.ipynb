{
  "nbformat": 4,
  "nbformat_minor": 0,
  "metadata": {
    "colab": {
      "name": "down_hole_pressure ",
      "provenance": [],
      "authorship_tag": "ABX9TyMWxcDaqt5fJXA4fbGOrYu0",
      "include_colab_link": true
    },
    "kernelspec": {
      "name": "python3",
      "display_name": "Python 3"
    },
    "language_info": {
      "name": "python"
    }
  },
  "cells": [
    {
      "cell_type": "markdown",
      "metadata": {
        "id": "view-in-github",
        "colab_type": "text"
      },
      "source": [
        "<a href=\"https://colab.research.google.com/github/Arnold-git/Arnold-git/blob/main/down_hole_pressure.ipynb\" target=\"_parent\"><img src=\"https://colab.research.google.com/assets/colab-badge.svg\" alt=\"Open In Colab\"/></a>"
      ]
    },
    {
      "cell_type": "code",
      "metadata": {
        "colab": {
          "base_uri": "https://localhost:8080/",
          "height": 0
        },
        "id": "RWSJpsyKqHjH",
        "outputId": "a023b81b-96e3-4e5e-9559-503ae18d6b90"
      },
      "source": [
        "\n",
        "from google.colab import drive\n",
        "drive.mount('/content/drive')"
      ],
      "execution_count": 1,
      "outputs": [
        {
          "output_type": "stream",
          "text": [
            "Mounted at /content/drive\n"
          ],
          "name": "stdout"
        }
      ]
    },
    {
      "cell_type": "code",
      "metadata": {
        "id": "1icJwe3Andt1"
      },
      "source": [
        "import pandas as pd"
      ],
      "execution_count": 2,
      "outputs": []
    },
    {
      "cell_type": "code",
      "metadata": {
        "id": "khjksWGxn_pf"
      },
      "source": [
        "df = pd.read_excel('/content/drive/MyDrive/Colab Notebooks/Bottom Hole Pressure/Volve production data.xlsx')"
      ],
      "execution_count": 3,
      "outputs": []
    },
    {
      "cell_type": "code",
      "metadata": {
        "colab": {
          "base_uri": "https://localhost:8080/",
          "height": 309
        },
        "id": "HmaUIs_goTqg",
        "outputId": "bc44fe23-7aa0-42e9-87b5-cbc1127713de"
      },
      "source": [
        "df.head()"
      ],
      "execution_count": 4,
      "outputs": [
        {
          "output_type": "execute_result",
          "data": {
            "text/html": [
              "<div>\n",
              "<style scoped>\n",
              "    .dataframe tbody tr th:only-of-type {\n",
              "        vertical-align: middle;\n",
              "    }\n",
              "\n",
              "    .dataframe tbody tr th {\n",
              "        vertical-align: top;\n",
              "    }\n",
              "\n",
              "    .dataframe thead th {\n",
              "        text-align: right;\n",
              "    }\n",
              "</style>\n",
              "<table border=\"1\" class=\"dataframe\">\n",
              "  <thead>\n",
              "    <tr style=\"text-align: right;\">\n",
              "      <th></th>\n",
              "      <th>DATEPRD</th>\n",
              "      <th>WELL_BORE_CODE</th>\n",
              "      <th>NPD_WELL_BORE_CODE</th>\n",
              "      <th>NPD_WELL_BORE_NAME</th>\n",
              "      <th>NPD_FIELD_CODE</th>\n",
              "      <th>NPD_FIELD_NAME</th>\n",
              "      <th>NPD_FACILITY_CODE</th>\n",
              "      <th>NPD_FACILITY_NAME</th>\n",
              "      <th>ON_STREAM_HRS</th>\n",
              "      <th>AVG_DOWNHOLE_PRESSURE</th>\n",
              "      <th>AVG_DOWNHOLE_TEMPERATURE</th>\n",
              "      <th>AVG_DP_TUBING</th>\n",
              "      <th>AVG_ANNULUS_PRESS</th>\n",
              "      <th>AVG_CHOKE_SIZE_P</th>\n",
              "      <th>AVG_CHOKE_UOM</th>\n",
              "      <th>AVG_WHP_P</th>\n",
              "      <th>AVG_WHT_P</th>\n",
              "      <th>DP_CHOKE_SIZE</th>\n",
              "      <th>BORE_OIL_VOL</th>\n",
              "      <th>BORE_GAS_VOL</th>\n",
              "      <th>BORE_WAT_VOL</th>\n",
              "      <th>BORE_WI_VOL</th>\n",
              "      <th>FLOW_KIND</th>\n",
              "      <th>WELL_TYPE</th>\n",
              "    </tr>\n",
              "  </thead>\n",
              "  <tbody>\n",
              "    <tr>\n",
              "      <th>0</th>\n",
              "      <td>2014-04-07</td>\n",
              "      <td>NO 15/9-F-1 C</td>\n",
              "      <td>7405</td>\n",
              "      <td>15/9-F-1 C</td>\n",
              "      <td>3420717</td>\n",
              "      <td>VOLVE</td>\n",
              "      <td>369304</td>\n",
              "      <td>MÆRSK INSPIRER</td>\n",
              "      <td>0.0</td>\n",
              "      <td>0.00000</td>\n",
              "      <td>0.00000</td>\n",
              "      <td>0.00000</td>\n",
              "      <td>0.0</td>\n",
              "      <td>0.000000</td>\n",
              "      <td>%</td>\n",
              "      <td>0.00000</td>\n",
              "      <td>0.00000</td>\n",
              "      <td>0.00000</td>\n",
              "      <td>0.0</td>\n",
              "      <td>0.0</td>\n",
              "      <td>0.0</td>\n",
              "      <td>NaN</td>\n",
              "      <td>production</td>\n",
              "      <td>WI</td>\n",
              "    </tr>\n",
              "    <tr>\n",
              "      <th>1</th>\n",
              "      <td>2014-04-08</td>\n",
              "      <td>NO 15/9-F-1 C</td>\n",
              "      <td>7405</td>\n",
              "      <td>15/9-F-1 C</td>\n",
              "      <td>3420717</td>\n",
              "      <td>VOLVE</td>\n",
              "      <td>369304</td>\n",
              "      <td>MÆRSK INSPIRER</td>\n",
              "      <td>0.0</td>\n",
              "      <td>NaN</td>\n",
              "      <td>NaN</td>\n",
              "      <td>NaN</td>\n",
              "      <td>0.0</td>\n",
              "      <td>1.003059</td>\n",
              "      <td>%</td>\n",
              "      <td>0.00000</td>\n",
              "      <td>0.00000</td>\n",
              "      <td>0.00000</td>\n",
              "      <td>0.0</td>\n",
              "      <td>0.0</td>\n",
              "      <td>0.0</td>\n",
              "      <td>NaN</td>\n",
              "      <td>production</td>\n",
              "      <td>OP</td>\n",
              "    </tr>\n",
              "    <tr>\n",
              "      <th>2</th>\n",
              "      <td>2014-04-09</td>\n",
              "      <td>NO 15/9-F-1 C</td>\n",
              "      <td>7405</td>\n",
              "      <td>15/9-F-1 C</td>\n",
              "      <td>3420717</td>\n",
              "      <td>VOLVE</td>\n",
              "      <td>369304</td>\n",
              "      <td>MÆRSK INSPIRER</td>\n",
              "      <td>0.0</td>\n",
              "      <td>NaN</td>\n",
              "      <td>NaN</td>\n",
              "      <td>NaN</td>\n",
              "      <td>0.0</td>\n",
              "      <td>0.979008</td>\n",
              "      <td>%</td>\n",
              "      <td>0.00000</td>\n",
              "      <td>0.00000</td>\n",
              "      <td>0.00000</td>\n",
              "      <td>0.0</td>\n",
              "      <td>0.0</td>\n",
              "      <td>0.0</td>\n",
              "      <td>NaN</td>\n",
              "      <td>production</td>\n",
              "      <td>OP</td>\n",
              "    </tr>\n",
              "    <tr>\n",
              "      <th>3</th>\n",
              "      <td>2014-04-10</td>\n",
              "      <td>NO 15/9-F-1 C</td>\n",
              "      <td>7405</td>\n",
              "      <td>15/9-F-1 C</td>\n",
              "      <td>3420717</td>\n",
              "      <td>VOLVE</td>\n",
              "      <td>369304</td>\n",
              "      <td>MÆRSK INSPIRER</td>\n",
              "      <td>0.0</td>\n",
              "      <td>NaN</td>\n",
              "      <td>NaN</td>\n",
              "      <td>NaN</td>\n",
              "      <td>0.0</td>\n",
              "      <td>0.545759</td>\n",
              "      <td>%</td>\n",
              "      <td>0.00000</td>\n",
              "      <td>0.00000</td>\n",
              "      <td>0.00000</td>\n",
              "      <td>0.0</td>\n",
              "      <td>0.0</td>\n",
              "      <td>0.0</td>\n",
              "      <td>NaN</td>\n",
              "      <td>production</td>\n",
              "      <td>OP</td>\n",
              "    </tr>\n",
              "    <tr>\n",
              "      <th>4</th>\n",
              "      <td>2014-04-11</td>\n",
              "      <td>NO 15/9-F-1 C</td>\n",
              "      <td>7405</td>\n",
              "      <td>15/9-F-1 C</td>\n",
              "      <td>3420717</td>\n",
              "      <td>VOLVE</td>\n",
              "      <td>369304</td>\n",
              "      <td>MÆRSK INSPIRER</td>\n",
              "      <td>0.0</td>\n",
              "      <td>310.37614</td>\n",
              "      <td>96.87589</td>\n",
              "      <td>277.27826</td>\n",
              "      <td>0.0</td>\n",
              "      <td>1.215987</td>\n",
              "      <td>%</td>\n",
              "      <td>33.09788</td>\n",
              "      <td>10.47992</td>\n",
              "      <td>33.07195</td>\n",
              "      <td>0.0</td>\n",
              "      <td>0.0</td>\n",
              "      <td>0.0</td>\n",
              "      <td>NaN</td>\n",
              "      <td>production</td>\n",
              "      <td>OP</td>\n",
              "    </tr>\n",
              "  </tbody>\n",
              "</table>\n",
              "</div>"
            ],
            "text/plain": [
              "     DATEPRD WELL_BORE_CODE  ...   FLOW_KIND WELL_TYPE\n",
              "0 2014-04-07  NO 15/9-F-1 C  ...  production        WI\n",
              "1 2014-04-08  NO 15/9-F-1 C  ...  production        OP\n",
              "2 2014-04-09  NO 15/9-F-1 C  ...  production        OP\n",
              "3 2014-04-10  NO 15/9-F-1 C  ...  production        OP\n",
              "4 2014-04-11  NO 15/9-F-1 C  ...  production        OP\n",
              "\n",
              "[5 rows x 24 columns]"
            ]
          },
          "metadata": {
            "tags": []
          },
          "execution_count": 4
        }
      ]
    },
    {
      "cell_type": "code",
      "metadata": {
        "colab": {
          "base_uri": "https://localhost:8080/",
          "height": 0
        },
        "id": "Ga472U7HoWad",
        "outputId": "8a466c08-a526-4e44-df50-13b5eaf4deeb"
      },
      "source": [
        "df.shape"
      ],
      "execution_count": 5,
      "outputs": [
        {
          "output_type": "execute_result",
          "data": {
            "text/plain": [
              "(15634, 24)"
            ]
          },
          "metadata": {
            "tags": []
          },
          "execution_count": 5
        }
      ]
    },
    {
      "cell_type": "code",
      "metadata": {
        "colab": {
          "base_uri": "https://localhost:8080/",
          "height": 0
        },
        "id": "VQFHk5CNp86g",
        "outputId": "71d22feb-ad67-4697-83cf-0da178d550f2"
      },
      "source": [
        "df.columns"
      ],
      "execution_count": 7,
      "outputs": [
        {
          "output_type": "execute_result",
          "data": {
            "text/plain": [
              "Index(['DATEPRD', 'WELL_BORE_CODE', 'NPD_WELL_BORE_CODE', 'NPD_WELL_BORE_NAME',\n",
              "       'NPD_FIELD_CODE', 'NPD_FIELD_NAME', 'NPD_FACILITY_CODE',\n",
              "       'NPD_FACILITY_NAME', 'ON_STREAM_HRS', 'AVG_DOWNHOLE_PRESSURE',\n",
              "       'AVG_DOWNHOLE_TEMPERATURE', 'AVG_DP_TUBING', 'AVG_ANNULUS_PRESS',\n",
              "       'AVG_CHOKE_SIZE_P', 'AVG_CHOKE_UOM', 'AVG_WHP_P', 'AVG_WHT_P',\n",
              "       'DP_CHOKE_SIZE', 'BORE_OIL_VOL', 'BORE_GAS_VOL', 'BORE_WAT_VOL',\n",
              "       'BORE_WI_VOL', 'FLOW_KIND', 'WELL_TYPE'],\n",
              "      dtype='object')"
            ]
          },
          "metadata": {
            "tags": []
          },
          "execution_count": 7
        }
      ]
    },
    {
      "cell_type": "code",
      "metadata": {
        "colab": {
          "base_uri": "https://localhost:8080/",
          "height": 309
        },
        "id": "afPX3IsMomhu",
        "outputId": "99d32c32-30e5-47e0-8ef1-741e73a7f27c"
      },
      "source": [
        "df.tail()"
      ],
      "execution_count": 6,
      "outputs": [
        {
          "output_type": "execute_result",
          "data": {
            "text/html": [
              "<div>\n",
              "<style scoped>\n",
              "    .dataframe tbody tr th:only-of-type {\n",
              "        vertical-align: middle;\n",
              "    }\n",
              "\n",
              "    .dataframe tbody tr th {\n",
              "        vertical-align: top;\n",
              "    }\n",
              "\n",
              "    .dataframe thead th {\n",
              "        text-align: right;\n",
              "    }\n",
              "</style>\n",
              "<table border=\"1\" class=\"dataframe\">\n",
              "  <thead>\n",
              "    <tr style=\"text-align: right;\">\n",
              "      <th></th>\n",
              "      <th>DATEPRD</th>\n",
              "      <th>WELL_BORE_CODE</th>\n",
              "      <th>NPD_WELL_BORE_CODE</th>\n",
              "      <th>NPD_WELL_BORE_NAME</th>\n",
              "      <th>NPD_FIELD_CODE</th>\n",
              "      <th>NPD_FIELD_NAME</th>\n",
              "      <th>NPD_FACILITY_CODE</th>\n",
              "      <th>NPD_FACILITY_NAME</th>\n",
              "      <th>ON_STREAM_HRS</th>\n",
              "      <th>AVG_DOWNHOLE_PRESSURE</th>\n",
              "      <th>AVG_DOWNHOLE_TEMPERATURE</th>\n",
              "      <th>AVG_DP_TUBING</th>\n",
              "      <th>AVG_ANNULUS_PRESS</th>\n",
              "      <th>AVG_CHOKE_SIZE_P</th>\n",
              "      <th>AVG_CHOKE_UOM</th>\n",
              "      <th>AVG_WHP_P</th>\n",
              "      <th>AVG_WHT_P</th>\n",
              "      <th>DP_CHOKE_SIZE</th>\n",
              "      <th>BORE_OIL_VOL</th>\n",
              "      <th>BORE_GAS_VOL</th>\n",
              "      <th>BORE_WAT_VOL</th>\n",
              "      <th>BORE_WI_VOL</th>\n",
              "      <th>FLOW_KIND</th>\n",
              "      <th>WELL_TYPE</th>\n",
              "    </tr>\n",
              "  </thead>\n",
              "  <tbody>\n",
              "    <tr>\n",
              "      <th>15629</th>\n",
              "      <td>2016-09-14</td>\n",
              "      <td>NO 15/9-F-5 AH</td>\n",
              "      <td>5769</td>\n",
              "      <td>15/9-F-5</td>\n",
              "      <td>3420717</td>\n",
              "      <td>VOLVE</td>\n",
              "      <td>369304</td>\n",
              "      <td>MÆRSK INSPIRER</td>\n",
              "      <td>0.0</td>\n",
              "      <td>NaN</td>\n",
              "      <td>NaN</td>\n",
              "      <td>NaN</td>\n",
              "      <td>0.27272</td>\n",
              "      <td>0.636088</td>\n",
              "      <td>%</td>\n",
              "      <td>0.07776</td>\n",
              "      <td>0.22879</td>\n",
              "      <td>0.01862</td>\n",
              "      <td>0.0</td>\n",
              "      <td>0.0</td>\n",
              "      <td>0.0</td>\n",
              "      <td>NaN</td>\n",
              "      <td>production</td>\n",
              "      <td>OP</td>\n",
              "    </tr>\n",
              "    <tr>\n",
              "      <th>15630</th>\n",
              "      <td>2016-09-15</td>\n",
              "      <td>NO 15/9-F-5 AH</td>\n",
              "      <td>5769</td>\n",
              "      <td>15/9-F-5</td>\n",
              "      <td>3420717</td>\n",
              "      <td>VOLVE</td>\n",
              "      <td>369304</td>\n",
              "      <td>MÆRSK INSPIRER</td>\n",
              "      <td>0.0</td>\n",
              "      <td>NaN</td>\n",
              "      <td>NaN</td>\n",
              "      <td>NaN</td>\n",
              "      <td>0.28686</td>\n",
              "      <td>0.670794</td>\n",
              "      <td>%</td>\n",
              "      <td>0.08545</td>\n",
              "      <td>0.22914</td>\n",
              "      <td>0.00631</td>\n",
              "      <td>0.0</td>\n",
              "      <td>0.0</td>\n",
              "      <td>0.0</td>\n",
              "      <td>NaN</td>\n",
              "      <td>production</td>\n",
              "      <td>OP</td>\n",
              "    </tr>\n",
              "    <tr>\n",
              "      <th>15631</th>\n",
              "      <td>2016-09-16</td>\n",
              "      <td>NO 15/9-F-5 AH</td>\n",
              "      <td>5769</td>\n",
              "      <td>15/9-F-5</td>\n",
              "      <td>3420717</td>\n",
              "      <td>VOLVE</td>\n",
              "      <td>369304</td>\n",
              "      <td>MÆRSK INSPIRER</td>\n",
              "      <td>0.0</td>\n",
              "      <td>NaN</td>\n",
              "      <td>NaN</td>\n",
              "      <td>NaN</td>\n",
              "      <td>0.28604</td>\n",
              "      <td>0.664393</td>\n",
              "      <td>%</td>\n",
              "      <td>0.08544</td>\n",
              "      <td>0.22896</td>\n",
              "      <td>0.01181</td>\n",
              "      <td>0.0</td>\n",
              "      <td>0.0</td>\n",
              "      <td>0.0</td>\n",
              "      <td>NaN</td>\n",
              "      <td>production</td>\n",
              "      <td>OP</td>\n",
              "    </tr>\n",
              "    <tr>\n",
              "      <th>15632</th>\n",
              "      <td>2016-09-17</td>\n",
              "      <td>NO 15/9-F-5 AH</td>\n",
              "      <td>5769</td>\n",
              "      <td>15/9-F-5</td>\n",
              "      <td>3420717</td>\n",
              "      <td>VOLVE</td>\n",
              "      <td>369304</td>\n",
              "      <td>MÆRSK INSPIRER</td>\n",
              "      <td>0.0</td>\n",
              "      <td>NaN</td>\n",
              "      <td>NaN</td>\n",
              "      <td>NaN</td>\n",
              "      <td>0.27212</td>\n",
              "      <td>0.624660</td>\n",
              "      <td>%</td>\n",
              "      <td>0.07497</td>\n",
              "      <td>0.22846</td>\n",
              "      <td>0.02576</td>\n",
              "      <td>0.0</td>\n",
              "      <td>0.0</td>\n",
              "      <td>0.0</td>\n",
              "      <td>NaN</td>\n",
              "      <td>production</td>\n",
              "      <td>OP</td>\n",
              "    </tr>\n",
              "    <tr>\n",
              "      <th>15633</th>\n",
              "      <td>2016-09-18</td>\n",
              "      <td>NO 15/9-F-5 AH</td>\n",
              "      <td>5769</td>\n",
              "      <td>15/9-F-5</td>\n",
              "      <td>3420717</td>\n",
              "      <td>VOLVE</td>\n",
              "      <td>369304</td>\n",
              "      <td>MÆRSK INSPIRER</td>\n",
              "      <td>0.0</td>\n",
              "      <td>NaN</td>\n",
              "      <td>NaN</td>\n",
              "      <td>NaN</td>\n",
              "      <td>NaN</td>\n",
              "      <td>NaN</td>\n",
              "      <td>NaN</td>\n",
              "      <td>NaN</td>\n",
              "      <td>NaN</td>\n",
              "      <td>0.00000</td>\n",
              "      <td>NaN</td>\n",
              "      <td>NaN</td>\n",
              "      <td>NaN</td>\n",
              "      <td>0.0</td>\n",
              "      <td>injection</td>\n",
              "      <td>WI</td>\n",
              "    </tr>\n",
              "  </tbody>\n",
              "</table>\n",
              "</div>"
            ],
            "text/plain": [
              "         DATEPRD  WELL_BORE_CODE  ...   FLOW_KIND WELL_TYPE\n",
              "15629 2016-09-14  NO 15/9-F-5 AH  ...  production        OP\n",
              "15630 2016-09-15  NO 15/9-F-5 AH  ...  production        OP\n",
              "15631 2016-09-16  NO 15/9-F-5 AH  ...  production        OP\n",
              "15632 2016-09-17  NO 15/9-F-5 AH  ...  production        OP\n",
              "15633 2016-09-18  NO 15/9-F-5 AH  ...   injection        WI\n",
              "\n",
              "[5 rows x 24 columns]"
            ]
          },
          "metadata": {
            "tags": []
          },
          "execution_count": 6
        }
      ]
    },
    {
      "cell_type": "code",
      "metadata": {
        "colab": {
          "base_uri": "https://localhost:8080/",
          "height": 0
        },
        "id": "xD0S6gSaooep",
        "outputId": "40859d33-cf63-44b3-fe1d-2ac55a29b02a"
      },
      "source": [
        "df['AVG_DOWNHOLE_PRESSURE'].dtype"
      ],
      "execution_count": 8,
      "outputs": [
        {
          "output_type": "execute_result",
          "data": {
            "text/plain": [
              "dtype('float64')"
            ]
          },
          "metadata": {
            "tags": []
          },
          "execution_count": 8
        }
      ]
    },
    {
      "cell_type": "markdown",
      "metadata": {
        "id": "KVbQzvZl_Zkx"
      },
      "source": [
        "## Data Preprocessing"
      ]
    },
    {
      "cell_type": "markdown",
      "metadata": {
        "id": "nDKmxIIZ4Y1F"
      },
      "source": [
        "#### Drop all Down hole presure less than zero or equal to zero\n"
      ]
    },
    {
      "cell_type": "code",
      "metadata": {
        "id": "TtFYV6qtqoAz"
      },
      "source": [
        "df = df.loc[df['AVG_DOWNHOLE_PRESSURE'] > 0]"
      ],
      "execution_count": 9,
      "outputs": []
    },
    {
      "cell_type": "code",
      "metadata": {
        "colab": {
          "base_uri": "https://localhost:8080/",
          "height": 0
        },
        "id": "WtPyJ_pH-H6s",
        "outputId": "a33bd7a9-6b6c-44cb-fd08-9560b128a8d9"
      },
      "source": [
        "df.columns"
      ],
      "execution_count": 16,
      "outputs": [
        {
          "output_type": "execute_result",
          "data": {
            "text/plain": [
              "Index(['DATEPRD', 'WELL_BORE_CODE', 'NPD_WELL_BORE_CODE', 'NPD_WELL_BORE_NAME',\n",
              "       'NPD_FIELD_CODE', 'NPD_FIELD_NAME', 'NPD_FACILITY_CODE',\n",
              "       'NPD_FACILITY_NAME', 'ON_STREAM_HRS', 'AVG_DOWNHOLE_PRESSURE',\n",
              "       'AVG_DOWNHOLE_TEMPERATURE', 'AVG_DP_TUBING', 'AVG_ANNULUS_PRESS',\n",
              "       'AVG_CHOKE_SIZE_P', 'AVG_CHOKE_UOM', 'AVG_WHP_P', 'AVG_WHT_P',\n",
              "       'DP_CHOKE_SIZE', 'BORE_OIL_VOL', 'BORE_GAS_VOL', 'BORE_WAT_VOL',\n",
              "       'BORE_WI_VOL', 'FLOW_KIND', 'WELL_TYPE'],\n",
              "      dtype='object')"
            ]
          },
          "metadata": {
            "tags": []
          },
          "execution_count": 16
        }
      ]
    },
    {
      "cell_type": "code",
      "metadata": {
        "colab": {
          "base_uri": "https://localhost:8080/",
          "height": 309
        },
        "id": "Ra_BDK_54iV0",
        "outputId": "0ef4a68a-03af-4b90-e175-0a551ac95a03"
      },
      "source": [
        "df.head()"
      ],
      "execution_count": 10,
      "outputs": [
        {
          "output_type": "execute_result",
          "data": {
            "text/html": [
              "<div>\n",
              "<style scoped>\n",
              "    .dataframe tbody tr th:only-of-type {\n",
              "        vertical-align: middle;\n",
              "    }\n",
              "\n",
              "    .dataframe tbody tr th {\n",
              "        vertical-align: top;\n",
              "    }\n",
              "\n",
              "    .dataframe thead th {\n",
              "        text-align: right;\n",
              "    }\n",
              "</style>\n",
              "<table border=\"1\" class=\"dataframe\">\n",
              "  <thead>\n",
              "    <tr style=\"text-align: right;\">\n",
              "      <th></th>\n",
              "      <th>DATEPRD</th>\n",
              "      <th>WELL_BORE_CODE</th>\n",
              "      <th>NPD_WELL_BORE_CODE</th>\n",
              "      <th>NPD_WELL_BORE_NAME</th>\n",
              "      <th>NPD_FIELD_CODE</th>\n",
              "      <th>NPD_FIELD_NAME</th>\n",
              "      <th>NPD_FACILITY_CODE</th>\n",
              "      <th>NPD_FACILITY_NAME</th>\n",
              "      <th>ON_STREAM_HRS</th>\n",
              "      <th>AVG_DOWNHOLE_PRESSURE</th>\n",
              "      <th>AVG_DOWNHOLE_TEMPERATURE</th>\n",
              "      <th>AVG_DP_TUBING</th>\n",
              "      <th>AVG_ANNULUS_PRESS</th>\n",
              "      <th>AVG_CHOKE_SIZE_P</th>\n",
              "      <th>AVG_CHOKE_UOM</th>\n",
              "      <th>AVG_WHP_P</th>\n",
              "      <th>AVG_WHT_P</th>\n",
              "      <th>DP_CHOKE_SIZE</th>\n",
              "      <th>BORE_OIL_VOL</th>\n",
              "      <th>BORE_GAS_VOL</th>\n",
              "      <th>BORE_WAT_VOL</th>\n",
              "      <th>BORE_WI_VOL</th>\n",
              "      <th>FLOW_KIND</th>\n",
              "      <th>WELL_TYPE</th>\n",
              "    </tr>\n",
              "  </thead>\n",
              "  <tbody>\n",
              "    <tr>\n",
              "      <th>4</th>\n",
              "      <td>2014-04-11</td>\n",
              "      <td>NO 15/9-F-1 C</td>\n",
              "      <td>7405</td>\n",
              "      <td>15/9-F-1 C</td>\n",
              "      <td>3420717</td>\n",
              "      <td>VOLVE</td>\n",
              "      <td>369304</td>\n",
              "      <td>MÆRSK INSPIRER</td>\n",
              "      <td>0.0</td>\n",
              "      <td>310.37614</td>\n",
              "      <td>96.87589</td>\n",
              "      <td>277.27826</td>\n",
              "      <td>0.0</td>\n",
              "      <td>1.215987</td>\n",
              "      <td>%</td>\n",
              "      <td>33.09788</td>\n",
              "      <td>10.47992</td>\n",
              "      <td>33.07195</td>\n",
              "      <td>0.0</td>\n",
              "      <td>0.0</td>\n",
              "      <td>0.0</td>\n",
              "      <td>NaN</td>\n",
              "      <td>production</td>\n",
              "      <td>OP</td>\n",
              "    </tr>\n",
              "    <tr>\n",
              "      <th>5</th>\n",
              "      <td>2014-04-12</td>\n",
              "      <td>NO 15/9-F-1 C</td>\n",
              "      <td>7405</td>\n",
              "      <td>15/9-F-1 C</td>\n",
              "      <td>3420717</td>\n",
              "      <td>VOLVE</td>\n",
              "      <td>369304</td>\n",
              "      <td>MÆRSK INSPIRER</td>\n",
              "      <td>0.0</td>\n",
              "      <td>303.50078</td>\n",
              "      <td>96.92339</td>\n",
              "      <td>281.44744</td>\n",
              "      <td>0.0</td>\n",
              "      <td>3.087015</td>\n",
              "      <td>%</td>\n",
              "      <td>22.05334</td>\n",
              "      <td>8.70429</td>\n",
              "      <td>22.05334</td>\n",
              "      <td>0.0</td>\n",
              "      <td>0.0</td>\n",
              "      <td>0.0</td>\n",
              "      <td>NaN</td>\n",
              "      <td>production</td>\n",
              "      <td>OP</td>\n",
              "    </tr>\n",
              "    <tr>\n",
              "      <th>6</th>\n",
              "      <td>2014-04-13</td>\n",
              "      <td>NO 15/9-F-1 C</td>\n",
              "      <td>7405</td>\n",
              "      <td>15/9-F-1 C</td>\n",
              "      <td>3420717</td>\n",
              "      <td>VOLVE</td>\n",
              "      <td>369304</td>\n",
              "      <td>MÆRSK INSPIRER</td>\n",
              "      <td>0.0</td>\n",
              "      <td>303.53481</td>\n",
              "      <td>96.95885</td>\n",
              "      <td>276.03200</td>\n",
              "      <td>0.0</td>\n",
              "      <td>1.962365</td>\n",
              "      <td>%</td>\n",
              "      <td>27.50281</td>\n",
              "      <td>9.42315</td>\n",
              "      <td>16.16326</td>\n",
              "      <td>0.0</td>\n",
              "      <td>0.0</td>\n",
              "      <td>0.0</td>\n",
              "      <td>NaN</td>\n",
              "      <td>production</td>\n",
              "      <td>OP</td>\n",
              "    </tr>\n",
              "    <tr>\n",
              "      <th>7</th>\n",
              "      <td>2014-04-14</td>\n",
              "      <td>NO 15/9-F-1 C</td>\n",
              "      <td>7405</td>\n",
              "      <td>15/9-F-1 C</td>\n",
              "      <td>3420717</td>\n",
              "      <td>VOLVE</td>\n",
              "      <td>369304</td>\n",
              "      <td>MÆRSK INSPIRER</td>\n",
              "      <td>0.0</td>\n",
              "      <td>303.78228</td>\n",
              "      <td>96.96873</td>\n",
              "      <td>282.78676</td>\n",
              "      <td>0.0</td>\n",
              "      <td>0.000000</td>\n",
              "      <td>%</td>\n",
              "      <td>20.99552</td>\n",
              "      <td>8.13137</td>\n",
              "      <td>20.73712</td>\n",
              "      <td>0.0</td>\n",
              "      <td>0.0</td>\n",
              "      <td>0.0</td>\n",
              "      <td>NaN</td>\n",
              "      <td>production</td>\n",
              "      <td>OP</td>\n",
              "    </tr>\n",
              "    <tr>\n",
              "      <th>8</th>\n",
              "      <td>2014-04-15</td>\n",
              "      <td>NO 15/9-F-1 C</td>\n",
              "      <td>7405</td>\n",
              "      <td>15/9-F-1 C</td>\n",
              "      <td>3420717</td>\n",
              "      <td>VOLVE</td>\n",
              "      <td>369304</td>\n",
              "      <td>MÆRSK INSPIRER</td>\n",
              "      <td>0.0</td>\n",
              "      <td>303.85821</td>\n",
              "      <td>97.02136</td>\n",
              "      <td>289.94067</td>\n",
              "      <td>0.0</td>\n",
              "      <td>31.141856</td>\n",
              "      <td>%</td>\n",
              "      <td>13.91754</td>\n",
              "      <td>8.49833</td>\n",
              "      <td>12.18153</td>\n",
              "      <td>0.0</td>\n",
              "      <td>0.0</td>\n",
              "      <td>0.0</td>\n",
              "      <td>NaN</td>\n",
              "      <td>production</td>\n",
              "      <td>OP</td>\n",
              "    </tr>\n",
              "  </tbody>\n",
              "</table>\n",
              "</div>"
            ],
            "text/plain": [
              "     DATEPRD WELL_BORE_CODE  ...   FLOW_KIND WELL_TYPE\n",
              "4 2014-04-11  NO 15/9-F-1 C  ...  production        OP\n",
              "5 2014-04-12  NO 15/9-F-1 C  ...  production        OP\n",
              "6 2014-04-13  NO 15/9-F-1 C  ...  production        OP\n",
              "7 2014-04-14  NO 15/9-F-1 C  ...  production        OP\n",
              "8 2014-04-15  NO 15/9-F-1 C  ...  production        OP\n",
              "\n",
              "[5 rows x 24 columns]"
            ]
          },
          "metadata": {
            "tags": []
          },
          "execution_count": 10
        }
      ]
    },
    {
      "cell_type": "code",
      "metadata": {
        "id": "XHYSFU9W_MOX"
      },
      "source": [
        "df2 = df[['DATEPRD', 'AVG_DOWNHOLE_PRESSURE', 'AVG_DOWNHOLE_TEMPERATURE', 'AVG_DP_TUBING',\n",
        "   'AVG_CHOKE_SIZE_P', 'AVG_WHP_P', 'AVG_WHT_P', 'DP_CHOKE_SIZE', 'BORE_GAS_VOL', 'BORE_OIL_VOL',\n",
        "   'BORE_WAT_VOL', 'NPD_WELL_BORE_CODE']]"
      ],
      "execution_count": 25,
      "outputs": []
    },
    {
      "cell_type": "code",
      "metadata": {
        "colab": {
          "base_uri": "https://localhost:8080/",
          "height": 609
        },
        "id": "YPw4aueQEmO0",
        "outputId": "eafe5dea-582d-4285-f294-133c521d8d4e"
      },
      "source": [
        "df2"
      ],
      "execution_count": 26,
      "outputs": [
        {
          "output_type": "execute_result",
          "data": {
            "text/html": [
              "<div>\n",
              "<style scoped>\n",
              "    .dataframe tbody tr th:only-of-type {\n",
              "        vertical-align: middle;\n",
              "    }\n",
              "\n",
              "    .dataframe tbody tr th {\n",
              "        vertical-align: top;\n",
              "    }\n",
              "\n",
              "    .dataframe thead th {\n",
              "        text-align: right;\n",
              "    }\n",
              "</style>\n",
              "<table border=\"1\" class=\"dataframe\">\n",
              "  <thead>\n",
              "    <tr style=\"text-align: right;\">\n",
              "      <th></th>\n",
              "      <th>DATEPRD</th>\n",
              "      <th>AVG_DOWNHOLE_PRESSURE</th>\n",
              "      <th>AVG_DOWNHOLE_TEMPERATURE</th>\n",
              "      <th>AVG_DP_TUBING</th>\n",
              "      <th>AVG_CHOKE_SIZE_P</th>\n",
              "      <th>AVG_WHP_P</th>\n",
              "      <th>AVG_WHT_P</th>\n",
              "      <th>DP_CHOKE_SIZE</th>\n",
              "      <th>BORE_GAS_VOL</th>\n",
              "      <th>BORE_OIL_VOL</th>\n",
              "      <th>BORE_WAT_VOL</th>\n",
              "      <th>NPD_WELL_BORE_CODE</th>\n",
              "    </tr>\n",
              "  </thead>\n",
              "  <tbody>\n",
              "    <tr>\n",
              "      <th>4</th>\n",
              "      <td>2014-04-11</td>\n",
              "      <td>310.37614</td>\n",
              "      <td>96.87589</td>\n",
              "      <td>277.27826</td>\n",
              "      <td>1.215987</td>\n",
              "      <td>33.09788</td>\n",
              "      <td>10.47992</td>\n",
              "      <td>33.07195</td>\n",
              "      <td>0.0</td>\n",
              "      <td>0.0</td>\n",
              "      <td>0.0</td>\n",
              "      <td>7405</td>\n",
              "    </tr>\n",
              "    <tr>\n",
              "      <th>5</th>\n",
              "      <td>2014-04-12</td>\n",
              "      <td>303.50078</td>\n",
              "      <td>96.92339</td>\n",
              "      <td>281.44744</td>\n",
              "      <td>3.087015</td>\n",
              "      <td>22.05334</td>\n",
              "      <td>8.70429</td>\n",
              "      <td>22.05334</td>\n",
              "      <td>0.0</td>\n",
              "      <td>0.0</td>\n",
              "      <td>0.0</td>\n",
              "      <td>7405</td>\n",
              "    </tr>\n",
              "    <tr>\n",
              "      <th>6</th>\n",
              "      <td>2014-04-13</td>\n",
              "      <td>303.53481</td>\n",
              "      <td>96.95885</td>\n",
              "      <td>276.03200</td>\n",
              "      <td>1.962365</td>\n",
              "      <td>27.50281</td>\n",
              "      <td>9.42315</td>\n",
              "      <td>16.16326</td>\n",
              "      <td>0.0</td>\n",
              "      <td>0.0</td>\n",
              "      <td>0.0</td>\n",
              "      <td>7405</td>\n",
              "    </tr>\n",
              "    <tr>\n",
              "      <th>7</th>\n",
              "      <td>2014-04-14</td>\n",
              "      <td>303.78228</td>\n",
              "      <td>96.96873</td>\n",
              "      <td>282.78676</td>\n",
              "      <td>0.000000</td>\n",
              "      <td>20.99552</td>\n",
              "      <td>8.13137</td>\n",
              "      <td>20.73712</td>\n",
              "      <td>0.0</td>\n",
              "      <td>0.0</td>\n",
              "      <td>0.0</td>\n",
              "      <td>7405</td>\n",
              "    </tr>\n",
              "    <tr>\n",
              "      <th>8</th>\n",
              "      <td>2014-04-15</td>\n",
              "      <td>303.85821</td>\n",
              "      <td>97.02136</td>\n",
              "      <td>289.94067</td>\n",
              "      <td>31.141856</td>\n",
              "      <td>13.91754</td>\n",
              "      <td>8.49833</td>\n",
              "      <td>12.18153</td>\n",
              "      <td>0.0</td>\n",
              "      <td>0.0</td>\n",
              "      <td>0.0</td>\n",
              "      <td>7405</td>\n",
              "    </tr>\n",
              "    <tr>\n",
              "      <th>...</th>\n",
              "      <td>...</td>\n",
              "      <td>...</td>\n",
              "      <td>...</td>\n",
              "      <td>...</td>\n",
              "      <td>...</td>\n",
              "      <td>...</td>\n",
              "      <td>...</td>\n",
              "      <td>...</td>\n",
              "      <td>...</td>\n",
              "      <td>...</td>\n",
              "      <td>...</td>\n",
              "      <td>...</td>\n",
              "    </tr>\n",
              "    <tr>\n",
              "      <th>8996</th>\n",
              "      <td>2016-09-13</td>\n",
              "      <td>345.90677</td>\n",
              "      <td>90.03433</td>\n",
              "      <td>345.90677</td>\n",
              "      <td>0.999251</td>\n",
              "      <td>0.00000</td>\n",
              "      <td>0.00000</td>\n",
              "      <td>13.97408</td>\n",
              "      <td>0.0</td>\n",
              "      <td>0.0</td>\n",
              "      <td>0.0</td>\n",
              "      <td>7289</td>\n",
              "    </tr>\n",
              "    <tr>\n",
              "      <th>8997</th>\n",
              "      <td>2016-09-14</td>\n",
              "      <td>345.90677</td>\n",
              "      <td>90.03433</td>\n",
              "      <td>345.90677</td>\n",
              "      <td>1.049490</td>\n",
              "      <td>0.00000</td>\n",
              "      <td>0.00000</td>\n",
              "      <td>14.06316</td>\n",
              "      <td>0.0</td>\n",
              "      <td>0.0</td>\n",
              "      <td>0.0</td>\n",
              "      <td>7289</td>\n",
              "    </tr>\n",
              "    <tr>\n",
              "      <th>8998</th>\n",
              "      <td>2016-09-15</td>\n",
              "      <td>345.90677</td>\n",
              "      <td>90.03433</td>\n",
              "      <td>345.90677</td>\n",
              "      <td>0.974846</td>\n",
              "      <td>0.00000</td>\n",
              "      <td>0.00000</td>\n",
              "      <td>14.17445</td>\n",
              "      <td>0.0</td>\n",
              "      <td>0.0</td>\n",
              "      <td>0.0</td>\n",
              "      <td>7289</td>\n",
              "    </tr>\n",
              "    <tr>\n",
              "      <th>8999</th>\n",
              "      <td>2016-09-16</td>\n",
              "      <td>345.90677</td>\n",
              "      <td>90.03433</td>\n",
              "      <td>345.90677</td>\n",
              "      <td>0.968742</td>\n",
              "      <td>0.00000</td>\n",
              "      <td>0.00000</td>\n",
              "      <td>14.23277</td>\n",
              "      <td>0.0</td>\n",
              "      <td>0.0</td>\n",
              "      <td>0.0</td>\n",
              "      <td>7289</td>\n",
              "    </tr>\n",
              "    <tr>\n",
              "      <th>9000</th>\n",
              "      <td>2016-09-17</td>\n",
              "      <td>345.90677</td>\n",
              "      <td>90.03433</td>\n",
              "      <td>345.90677</td>\n",
              "      <td>0.990500</td>\n",
              "      <td>0.00000</td>\n",
              "      <td>0.00000</td>\n",
              "      <td>14.26085</td>\n",
              "      <td>0.0</td>\n",
              "      <td>0.0</td>\n",
              "      <td>0.0</td>\n",
              "      <td>7289</td>\n",
              "    </tr>\n",
              "  </tbody>\n",
              "</table>\n",
              "<p>6668 rows × 12 columns</p>\n",
              "</div>"
            ],
            "text/plain": [
              "        DATEPRD  AVG_DOWNHOLE_PRESSURE  ...  BORE_WAT_VOL  NPD_WELL_BORE_CODE\n",
              "4    2014-04-11              310.37614  ...           0.0                7405\n",
              "5    2014-04-12              303.50078  ...           0.0                7405\n",
              "6    2014-04-13              303.53481  ...           0.0                7405\n",
              "7    2014-04-14              303.78228  ...           0.0                7405\n",
              "8    2014-04-15              303.85821  ...           0.0                7405\n",
              "...         ...                    ...  ...           ...                 ...\n",
              "8996 2016-09-13              345.90677  ...           0.0                7289\n",
              "8997 2016-09-14              345.90677  ...           0.0                7289\n",
              "8998 2016-09-15              345.90677  ...           0.0                7289\n",
              "8999 2016-09-16              345.90677  ...           0.0                7289\n",
              "9000 2016-09-17              345.90677  ...           0.0                7289\n",
              "\n",
              "[6668 rows x 12 columns]"
            ]
          },
          "metadata": {
            "tags": []
          },
          "execution_count": 26
        }
      ]
    },
    {
      "cell_type": "code",
      "metadata": {
        "id": "VsFsVacWE2YC"
      },
      "source": [
        "df3 = df2.loc[df2['BORE_OIL_VOL'] > 0]"
      ],
      "execution_count": 30,
      "outputs": []
    },
    {
      "cell_type": "code",
      "metadata": {
        "colab": {
          "base_uri": "https://localhost:8080/",
          "height": 309
        },
        "id": "mWuM8MIuFIsX",
        "outputId": "8e45effa-55e8-4220-c955-0cd7298d9c27"
      },
      "source": [
        "df3.head()"
      ],
      "execution_count": 31,
      "outputs": [
        {
          "output_type": "execute_result",
          "data": {
            "text/html": [
              "<div>\n",
              "<style scoped>\n",
              "    .dataframe tbody tr th:only-of-type {\n",
              "        vertical-align: middle;\n",
              "    }\n",
              "\n",
              "    .dataframe tbody tr th {\n",
              "        vertical-align: top;\n",
              "    }\n",
              "\n",
              "    .dataframe thead th {\n",
              "        text-align: right;\n",
              "    }\n",
              "</style>\n",
              "<table border=\"1\" class=\"dataframe\">\n",
              "  <thead>\n",
              "    <tr style=\"text-align: right;\">\n",
              "      <th></th>\n",
              "      <th>DATEPRD</th>\n",
              "      <th>AVG_DOWNHOLE_PRESSURE</th>\n",
              "      <th>AVG_DOWNHOLE_TEMPERATURE</th>\n",
              "      <th>AVG_DP_TUBING</th>\n",
              "      <th>AVG_CHOKE_SIZE_P</th>\n",
              "      <th>AVG_WHP_P</th>\n",
              "      <th>AVG_WHT_P</th>\n",
              "      <th>DP_CHOKE_SIZE</th>\n",
              "      <th>BORE_GAS_VOL</th>\n",
              "      <th>BORE_OIL_VOL</th>\n",
              "      <th>BORE_WAT_VOL</th>\n",
              "      <th>NPD_WELL_BORE_CODE</th>\n",
              "    </tr>\n",
              "  </thead>\n",
              "  <tbody>\n",
              "    <tr>\n",
              "      <th>15</th>\n",
              "      <td>2014-04-22</td>\n",
              "      <td>289.421362</td>\n",
              "      <td>106.353209</td>\n",
              "      <td>182.059312</td>\n",
              "      <td>43.343451</td>\n",
              "      <td>107.362050</td>\n",
              "      <td>37.939251</td>\n",
              "      <td>78.935409</td>\n",
              "      <td>90439.09</td>\n",
              "      <td>631.47</td>\n",
              "      <td>0.0</td>\n",
              "      <td>7405</td>\n",
              "    </tr>\n",
              "    <tr>\n",
              "      <th>16</th>\n",
              "      <td>2014-04-23</td>\n",
              "      <td>270.239793</td>\n",
              "      <td>107.643779</td>\n",
              "      <td>171.052782</td>\n",
              "      <td>47.167523</td>\n",
              "      <td>99.187011</td>\n",
              "      <td>60.756579</td>\n",
              "      <td>70.627109</td>\n",
              "      <td>165720.39</td>\n",
              "      <td>1166.46</td>\n",
              "      <td>0.0</td>\n",
              "      <td>7405</td>\n",
              "    </tr>\n",
              "    <tr>\n",
              "      <th>17</th>\n",
              "      <td>2014-04-24</td>\n",
              "      <td>262.842747</td>\n",
              "      <td>107.869234</td>\n",
              "      <td>168.241977</td>\n",
              "      <td>47.732310</td>\n",
              "      <td>94.600770</td>\n",
              "      <td>63.046800</td>\n",
              "      <td>66.049151</td>\n",
              "      <td>221707.31</td>\n",
              "      <td>1549.81</td>\n",
              "      <td>0.0</td>\n",
              "      <td>7405</td>\n",
              "    </tr>\n",
              "    <tr>\n",
              "      <th>18</th>\n",
              "      <td>2014-04-25</td>\n",
              "      <td>255.526995</td>\n",
              "      <td>107.971137</td>\n",
              "      <td>165.538903</td>\n",
              "      <td>48.533769</td>\n",
              "      <td>89.988092</td>\n",
              "      <td>64.547229</td>\n",
              "      <td>61.405386</td>\n",
              "      <td>178063.52</td>\n",
              "      <td>1248.70</td>\n",
              "      <td>0.0</td>\n",
              "      <td>7405</td>\n",
              "    </tr>\n",
              "    <tr>\n",
              "      <th>19</th>\n",
              "      <td>2014-04-26</td>\n",
              "      <td>247.199052</td>\n",
              "      <td>108.052030</td>\n",
              "      <td>162.422242</td>\n",
              "      <td>49.844502</td>\n",
              "      <td>84.776810</td>\n",
              "      <td>65.723694</td>\n",
              "      <td>56.147906</td>\n",
              "      <td>192602.19</td>\n",
              "      <td>1345.78</td>\n",
              "      <td>0.0</td>\n",
              "      <td>7405</td>\n",
              "    </tr>\n",
              "  </tbody>\n",
              "</table>\n",
              "</div>"
            ],
            "text/plain": [
              "      DATEPRD  AVG_DOWNHOLE_PRESSURE  ...  BORE_WAT_VOL  NPD_WELL_BORE_CODE\n",
              "15 2014-04-22             289.421362  ...           0.0                7405\n",
              "16 2014-04-23             270.239793  ...           0.0                7405\n",
              "17 2014-04-24             262.842747  ...           0.0                7405\n",
              "18 2014-04-25             255.526995  ...           0.0                7405\n",
              "19 2014-04-26             247.199052  ...           0.0                7405\n",
              "\n",
              "[5 rows x 12 columns]"
            ]
          },
          "metadata": {
            "tags": []
          },
          "execution_count": 31
        }
      ]
    },
    {
      "cell_type": "code",
      "metadata": {
        "colab": {
          "base_uri": "https://localhost:8080/",
          "height": 0
        },
        "id": "3Kz5kbXKBM16",
        "outputId": "5e2d4845-0d0c-469d-f669-55256970bdb8"
      },
      "source": [
        "df['BORE_GAS_VOL'].value_counts()"
      ],
      "execution_count": 22,
      "outputs": [
        {
          "output_type": "execute_result",
          "data": {
            "text/plain": [
              "0.00         725\n",
              "182065.95      2\n",
              "164001.71      2\n",
              "25728.41       1\n",
              "140177.35      1\n",
              "            ... \n",
              "10185.48       1\n",
              "34427.49       1\n",
              "50820.51       1\n",
              "41359.57       1\n",
              "30077.04       1\n",
              "Name: BORE_GAS_VOL, Length: 5942, dtype: int64"
            ]
          },
          "metadata": {
            "tags": []
          },
          "execution_count": 22
        }
      ]
    },
    {
      "cell_type": "code",
      "metadata": {
        "id": "sBjCGytbFiWV"
      },
      "source": [
        "df3 = df2.loc[df2['BORE_WAT_VOL'] > 0]"
      ],
      "execution_count": 32,
      "outputs": []
    },
    {
      "cell_type": "code",
      "metadata": {
        "colab": {
          "base_uri": "https://localhost:8080/",
          "height": 0
        },
        "id": "TbPrHNGa9pzh",
        "outputId": "beba4730-6b44-452d-c44f-f6fe26c941e4"
      },
      "source": [
        "df3.shape"
      ],
      "execution_count": 34,
      "outputs": [
        {
          "output_type": "execute_result",
          "data": {
            "text/plain": [
              "(5569, 12)"
            ]
          },
          "metadata": {
            "tags": []
          },
          "execution_count": 34
        }
      ]
    },
    {
      "cell_type": "code",
      "metadata": {
        "colab": {
          "base_uri": "https://localhost:8080/",
          "height": 309
        },
        "id": "BU7wwUCp5XU3",
        "outputId": "628da096-e6e9-4970-f55c-848bc36ea112"
      },
      "source": [
        "df3.tail()"
      ],
      "execution_count": 36,
      "outputs": [
        {
          "output_type": "execute_result",
          "data": {
            "text/html": [
              "<div>\n",
              "<style scoped>\n",
              "    .dataframe tbody tr th:only-of-type {\n",
              "        vertical-align: middle;\n",
              "    }\n",
              "\n",
              "    .dataframe tbody tr th {\n",
              "        vertical-align: top;\n",
              "    }\n",
              "\n",
              "    .dataframe thead th {\n",
              "        text-align: right;\n",
              "    }\n",
              "</style>\n",
              "<table border=\"1\" class=\"dataframe\">\n",
              "  <thead>\n",
              "    <tr style=\"text-align: right;\">\n",
              "      <th></th>\n",
              "      <th>DATEPRD</th>\n",
              "      <th>AVG_DOWNHOLE_PRESSURE</th>\n",
              "      <th>AVG_DOWNHOLE_TEMPERATURE</th>\n",
              "      <th>AVG_DP_TUBING</th>\n",
              "      <th>AVG_CHOKE_SIZE_P</th>\n",
              "      <th>AVG_WHP_P</th>\n",
              "      <th>AVG_WHT_P</th>\n",
              "      <th>DP_CHOKE_SIZE</th>\n",
              "      <th>BORE_GAS_VOL</th>\n",
              "      <th>BORE_OIL_VOL</th>\n",
              "      <th>BORE_WAT_VOL</th>\n",
              "      <th>NPD_WELL_BORE_CODE</th>\n",
              "    </tr>\n",
              "  </thead>\n",
              "  <tbody>\n",
              "    <tr>\n",
              "      <th>8923</th>\n",
              "      <td>2016-07-02</td>\n",
              "      <td>194.983953</td>\n",
              "      <td>106.517574</td>\n",
              "      <td>179.170590</td>\n",
              "      <td>31.575767</td>\n",
              "      <td>15.813363</td>\n",
              "      <td>49.020020</td>\n",
              "      <td>1.259761</td>\n",
              "      <td>23201.35</td>\n",
              "      <td>144.01</td>\n",
              "      <td>203.93</td>\n",
              "      <td>7289</td>\n",
              "    </tr>\n",
              "    <tr>\n",
              "      <th>8924</th>\n",
              "      <td>2016-07-03</td>\n",
              "      <td>194.977634</td>\n",
              "      <td>106.515586</td>\n",
              "      <td>179.204392</td>\n",
              "      <td>31.540612</td>\n",
              "      <td>15.773242</td>\n",
              "      <td>48.988494</td>\n",
              "      <td>1.198993</td>\n",
              "      <td>23068.07</td>\n",
              "      <td>145.22</td>\n",
              "      <td>202.93</td>\n",
              "      <td>7289</td>\n",
              "    </tr>\n",
              "    <tr>\n",
              "      <th>8925</th>\n",
              "      <td>2016-07-04</td>\n",
              "      <td>194.317112</td>\n",
              "      <td>106.521356</td>\n",
              "      <td>178.615149</td>\n",
              "      <td>31.522096</td>\n",
              "      <td>15.701963</td>\n",
              "      <td>50.103416</td>\n",
              "      <td>1.279639</td>\n",
              "      <td>23059.68</td>\n",
              "      <td>142.74</td>\n",
              "      <td>203.84</td>\n",
              "      <td>7289</td>\n",
              "    </tr>\n",
              "    <tr>\n",
              "      <th>8926</th>\n",
              "      <td>2016-07-05</td>\n",
              "      <td>195.207173</td>\n",
              "      <td>106.506781</td>\n",
              "      <td>179.598751</td>\n",
              "      <td>31.523457</td>\n",
              "      <td>15.608422</td>\n",
              "      <td>49.841092</td>\n",
              "      <td>1.204128</td>\n",
              "      <td>23090.47</td>\n",
              "      <td>144.46</td>\n",
              "      <td>202.76</td>\n",
              "      <td>7289</td>\n",
              "    </tr>\n",
              "    <tr>\n",
              "      <th>8927</th>\n",
              "      <td>2016-07-06</td>\n",
              "      <td>195.305708</td>\n",
              "      <td>106.507232</td>\n",
              "      <td>179.547756</td>\n",
              "      <td>24.922565</td>\n",
              "      <td>15.757952</td>\n",
              "      <td>48.734245</td>\n",
              "      <td>1.302808</td>\n",
              "      <td>17537.08</td>\n",
              "      <td>106.30</td>\n",
              "      <td>155.70</td>\n",
              "      <td>7289</td>\n",
              "    </tr>\n",
              "  </tbody>\n",
              "</table>\n",
              "</div>"
            ],
            "text/plain": [
              "        DATEPRD  AVG_DOWNHOLE_PRESSURE  ...  BORE_WAT_VOL  NPD_WELL_BORE_CODE\n",
              "8923 2016-07-02             194.983953  ...        203.93                7289\n",
              "8924 2016-07-03             194.977634  ...        202.93                7289\n",
              "8925 2016-07-04             194.317112  ...        203.84                7289\n",
              "8926 2016-07-05             195.207173  ...        202.76                7289\n",
              "8927 2016-07-06             195.305708  ...        155.70                7289\n",
              "\n",
              "[5 rows x 12 columns]"
            ]
          },
          "metadata": {
            "tags": []
          },
          "execution_count": 36
        }
      ]
    },
    {
      "cell_type": "code",
      "metadata": {
        "colab": {
          "base_uri": "https://localhost:8080/",
          "height": 0
        },
        "id": "JE5bW3GrFwTn",
        "outputId": "f533c124-c44e-420b-e0a1-043a8f0c46c4"
      },
      "source": [
        "df3['BORE_GAS_VOL'].value_counts()"
      ],
      "execution_count": 42,
      "outputs": [
        {
          "output_type": "execute_result",
          "data": {
            "text/plain": [
              "182065.95    2\n",
              "164001.71    2\n",
              "192962.32    1\n",
              "167738.30    1\n",
              "88.63        1\n",
              "            ..\n",
              "199037.63    1\n",
              "300070.08    1\n",
              "10185.48     1\n",
              "41359.57     1\n",
              "150712.71    1\n",
              "Name: BORE_GAS_VOL, Length: 5567, dtype: int64"
            ]
          },
          "metadata": {
            "tags": []
          },
          "execution_count": 42
        }
      ]
    },
    {
      "cell_type": "code",
      "metadata": {
        "id": "DfzVZCqaHYYS"
      },
      "source": [
        "df3 = df3.loc[df3['AVG_WHP_P'] > 0]"
      ],
      "execution_count": 45,
      "outputs": []
    },
    {
      "cell_type": "code",
      "metadata": {
        "id": "me1oOyzVHxok"
      },
      "source": [
        "df3 = df3.loc[df3['BORE_OIL_VOL'] > 0]"
      ],
      "execution_count": 47,
      "outputs": []
    },
    {
      "cell_type": "markdown",
      "metadata": {
        "id": "lhYDhuvOHBzn"
      },
      "source": [
        "\n",
        "Descriptive Statistics\n",
        "---\n",
        "\n"
      ]
    },
    {
      "cell_type": "code",
      "metadata": {
        "colab": {
          "base_uri": "https://localhost:8080/",
          "height": 165
        },
        "id": "qoSR_kJUHxHf",
        "outputId": "1f42dda0-2b73-4c64-dbd4-356836656dd6"
      },
      "source": [
        "df3.head(2)"
      ],
      "execution_count": 49,
      "outputs": [
        {
          "output_type": "execute_result",
          "data": {
            "text/html": [
              "<div>\n",
              "<style scoped>\n",
              "    .dataframe tbody tr th:only-of-type {\n",
              "        vertical-align: middle;\n",
              "    }\n",
              "\n",
              "    .dataframe tbody tr th {\n",
              "        vertical-align: top;\n",
              "    }\n",
              "\n",
              "    .dataframe thead th {\n",
              "        text-align: right;\n",
              "    }\n",
              "</style>\n",
              "<table border=\"1\" class=\"dataframe\">\n",
              "  <thead>\n",
              "    <tr style=\"text-align: right;\">\n",
              "      <th></th>\n",
              "      <th>DATEPRD</th>\n",
              "      <th>AVG_DOWNHOLE_PRESSURE</th>\n",
              "      <th>AVG_DOWNHOLE_TEMPERATURE</th>\n",
              "      <th>AVG_DP_TUBING</th>\n",
              "      <th>AVG_CHOKE_SIZE_P</th>\n",
              "      <th>AVG_WHP_P</th>\n",
              "      <th>AVG_WHT_P</th>\n",
              "      <th>DP_CHOKE_SIZE</th>\n",
              "      <th>BORE_GAS_VOL</th>\n",
              "      <th>BORE_OIL_VOL</th>\n",
              "      <th>BORE_WAT_VOL</th>\n",
              "      <th>NPD_WELL_BORE_CODE</th>\n",
              "    </tr>\n",
              "  </thead>\n",
              "  <tbody>\n",
              "    <tr>\n",
              "      <th>46</th>\n",
              "      <td>2014-05-23</td>\n",
              "      <td>219.862926</td>\n",
              "      <td>107.867219</td>\n",
              "      <td>155.572074</td>\n",
              "      <td>46.284227</td>\n",
              "      <td>64.290852</td>\n",
              "      <td>49.052980</td>\n",
              "      <td>35.873077</td>\n",
              "      <td>108079.03</td>\n",
              "      <td>742.89</td>\n",
              "      <td>93.31</td>\n",
              "      <td>7405</td>\n",
              "    </tr>\n",
              "    <tr>\n",
              "      <th>47</th>\n",
              "      <td>2014-05-24</td>\n",
              "      <td>219.922991</td>\n",
              "      <td>107.882980</td>\n",
              "      <td>155.752739</td>\n",
              "      <td>46.242158</td>\n",
              "      <td>64.170252</td>\n",
              "      <td>54.690688</td>\n",
              "      <td>35.750710</td>\n",
              "      <td>108387.02</td>\n",
              "      <td>746.54</td>\n",
              "      <td>100.42</td>\n",
              "      <td>7405</td>\n",
              "    </tr>\n",
              "  </tbody>\n",
              "</table>\n",
              "</div>"
            ],
            "text/plain": [
              "      DATEPRD  AVG_DOWNHOLE_PRESSURE  ...  BORE_WAT_VOL  NPD_WELL_BORE_CODE\n",
              "46 2014-05-23             219.862926  ...         93.31                7405\n",
              "47 2014-05-24             219.922991  ...        100.42                7405\n",
              "\n",
              "[2 rows x 12 columns]"
            ]
          },
          "metadata": {
            "tags": []
          },
          "execution_count": 49
        }
      ]
    },
    {
      "cell_type": "code",
      "metadata": {
        "colab": {
          "base_uri": "https://localhost:8080/",
          "height": 317
        },
        "id": "nIQ0Lp0TG7Ng",
        "outputId": "b3f2526d-f351-427a-abde-960a5f0c951a"
      },
      "source": [
        "df3.describe()"
      ],
      "execution_count": 48,
      "outputs": [
        {
          "output_type": "execute_result",
          "data": {
            "text/html": [
              "<div>\n",
              "<style scoped>\n",
              "    .dataframe tbody tr th:only-of-type {\n",
              "        vertical-align: middle;\n",
              "    }\n",
              "\n",
              "    .dataframe tbody tr th {\n",
              "        vertical-align: top;\n",
              "    }\n",
              "\n",
              "    .dataframe thead th {\n",
              "        text-align: right;\n",
              "    }\n",
              "</style>\n",
              "<table border=\"1\" class=\"dataframe\">\n",
              "  <thead>\n",
              "    <tr style=\"text-align: right;\">\n",
              "      <th></th>\n",
              "      <th>AVG_DOWNHOLE_PRESSURE</th>\n",
              "      <th>AVG_DOWNHOLE_TEMPERATURE</th>\n",
              "      <th>AVG_DP_TUBING</th>\n",
              "      <th>AVG_CHOKE_SIZE_P</th>\n",
              "      <th>AVG_WHP_P</th>\n",
              "      <th>AVG_WHT_P</th>\n",
              "      <th>DP_CHOKE_SIZE</th>\n",
              "      <th>BORE_GAS_VOL</th>\n",
              "      <th>BORE_OIL_VOL</th>\n",
              "      <th>BORE_WAT_VOL</th>\n",
              "      <th>NPD_WELL_BORE_CODE</th>\n",
              "    </tr>\n",
              "  </thead>\n",
              "  <tbody>\n",
              "    <tr>\n",
              "      <th>count</th>\n",
              "      <td>5566.000000</td>\n",
              "      <td>5566.000000</td>\n",
              "      <td>5566.000000</td>\n",
              "      <td>5566.000000</td>\n",
              "      <td>5566.000000</td>\n",
              "      <td>5566.000000</td>\n",
              "      <td>5566.000000</td>\n",
              "      <td>5566.000000</td>\n",
              "      <td>5566.000000</td>\n",
              "      <td>5566.000000</td>\n",
              "      <td>5566.000000</td>\n",
              "    </tr>\n",
              "    <tr>\n",
              "      <th>mean</th>\n",
              "      <td>241.581761</td>\n",
              "      <td>104.397816</td>\n",
              "      <td>193.802560</td>\n",
              "      <td>56.274609</td>\n",
              "      <td>47.783033</td>\n",
              "      <td>75.487722</td>\n",
              "      <td>18.604806</td>\n",
              "      <td>218806.171326</td>\n",
              "      <td>1497.791274</td>\n",
              "      <td>1643.887632</td>\n",
              "      <td>6059.772009</td>\n",
              "    </tr>\n",
              "    <tr>\n",
              "      <th>std</th>\n",
              "      <td>21.515763</td>\n",
              "      <td>3.914522</td>\n",
              "      <td>26.014429</td>\n",
              "      <td>32.845834</td>\n",
              "      <td>19.922531</td>\n",
              "      <td>16.874793</td>\n",
              "      <td>18.185933</td>\n",
              "      <td>204744.190710</td>\n",
              "      <td>1449.144991</td>\n",
              "      <td>1473.044953</td>\n",
              "      <td>867.599424</td>\n",
              "    </tr>\n",
              "    <tr>\n",
              "      <th>min</th>\n",
              "      <td>49.450440</td>\n",
              "      <td>20.959721</td>\n",
              "      <td>7.219360</td>\n",
              "      <td>0.600000</td>\n",
              "      <td>0.000067</td>\n",
              "      <td>7.036688</td>\n",
              "      <td>0.194397</td>\n",
              "      <td>28.860000</td>\n",
              "      <td>0.170000</td>\n",
              "      <td>0.010000</td>\n",
              "      <td>5351.000000</td>\n",
              "    </tr>\n",
              "    <tr>\n",
              "      <th>25%</th>\n",
              "      <td>223.749979</td>\n",
              "      <td>102.108715</td>\n",
              "      <td>171.467655</td>\n",
              "      <td>28.304236</td>\n",
              "      <td>31.878550</td>\n",
              "      <td>69.584006</td>\n",
              "      <td>3.336808</td>\n",
              "      <td>49352.545000</td>\n",
              "      <td>320.357500</td>\n",
              "      <td>150.117500</td>\n",
              "      <td>5351.000000</td>\n",
              "    </tr>\n",
              "    <tr>\n",
              "      <th>50%</th>\n",
              "      <td>243.615663</td>\n",
              "      <td>105.833478</td>\n",
              "      <td>190.806574</td>\n",
              "      <td>51.767704</td>\n",
              "      <td>40.505602</td>\n",
              "      <td>81.260264</td>\n",
              "      <td>11.227017</td>\n",
              "      <td>161619.060000</td>\n",
              "      <td>1051.370000</td>\n",
              "      <td>1303.405000</td>\n",
              "      <td>5599.000000</td>\n",
              "    </tr>\n",
              "    <tr>\n",
              "      <th>75%</th>\n",
              "      <td>258.138556</td>\n",
              "      <td>106.457362</td>\n",
              "      <td>214.277641</td>\n",
              "      <td>99.813017</td>\n",
              "      <td>60.646367</td>\n",
              "      <td>87.556848</td>\n",
              "      <td>28.427624</td>\n",
              "      <td>324804.942500</td>\n",
              "      <td>2220.900000</td>\n",
              "      <td>3120.342500</td>\n",
              "      <td>7078.000000</td>\n",
              "    </tr>\n",
              "    <tr>\n",
              "      <th>max</th>\n",
              "      <td>308.055940</td>\n",
              "      <td>108.502178</td>\n",
              "      <td>257.434314</td>\n",
              "      <td>100.000000</td>\n",
              "      <td>120.888576</td>\n",
              "      <td>93.509584</td>\n",
              "      <td>106.035140</td>\n",
              "      <td>835981.330000</td>\n",
              "      <td>5888.690000</td>\n",
              "      <td>8019.740000</td>\n",
              "      <td>7405.000000</td>\n",
              "    </tr>\n",
              "  </tbody>\n",
              "</table>\n",
              "</div>"
            ],
            "text/plain": [
              "       AVG_DOWNHOLE_PRESSURE  ...  NPD_WELL_BORE_CODE\n",
              "count            5566.000000  ...         5566.000000\n",
              "mean              241.581761  ...         6059.772009\n",
              "std                21.515763  ...          867.599424\n",
              "min                49.450440  ...         5351.000000\n",
              "25%               223.749979  ...         5351.000000\n",
              "50%               243.615663  ...         5599.000000\n",
              "75%               258.138556  ...         7078.000000\n",
              "max               308.055940  ...         7405.000000\n",
              "\n",
              "[8 rows x 11 columns]"
            ]
          },
          "metadata": {
            "tags": []
          },
          "execution_count": 48
        }
      ]
    },
    {
      "cell_type": "markdown",
      "metadata": {
        "id": "0YGwvWtbIBGM"
      },
      "source": [
        "### Normality Test"
      ]
    },
    {
      "cell_type": "code",
      "metadata": {
        "id": "3sBUjNq2IfYR"
      },
      "source": [
        "df3['DATEPRD'] = pd.to_datetime(df3['DATEPRD'])"
      ],
      "execution_count": 52,
      "outputs": []
    },
    {
      "cell_type": "code",
      "metadata": {
        "colab": {
          "base_uri": "https://localhost:8080/",
          "height": 0
        },
        "id": "4Sen-eWwJSNl",
        "outputId": "8a94743d-6497-4a0e-ff7a-a53293b300b9"
      },
      "source": [
        "df3.columns"
      ],
      "execution_count": 55,
      "outputs": [
        {
          "output_type": "execute_result",
          "data": {
            "text/plain": [
              "Index(['AVG_DOWNHOLE_PRESSURE', 'AVG_DOWNHOLE_TEMPERATURE', 'AVG_DP_TUBING',\n",
              "       'AVG_CHOKE_SIZE_P', 'AVG_WHP_P', 'AVG_WHT_P', 'DP_CHOKE_SIZE',\n",
              "       'BORE_GAS_VOL', 'BORE_OIL_VOL', 'BORE_WAT_VOL', 'NPD_WELL_BORE_CODE'],\n",
              "      dtype='object')"
            ]
          },
          "metadata": {
            "tags": []
          },
          "execution_count": 55
        }
      ]
    },
    {
      "cell_type": "code",
      "metadata": {
        "id": "27ThOiISGTcA"
      },
      "source": [
        "\n",
        "\n",
        "df_month = df3.loc[df3.groupby(pd.Grouper(freq='M'))['AVG_DOWNHOLE_PRESSURE'].idxmax()]"
      ],
      "execution_count": 56,
      "outputs": []
    },
    {
      "cell_type": "code",
      "metadata": {
        "colab": {
          "base_uri": "https://localhost:8080/",
          "height": 640
        },
        "id": "v6mqdDoRJXrI",
        "outputId": "6ca8e279-3abc-4eaa-ef83-29092590ad7b"
      },
      "source": [
        "df_month"
      ],
      "execution_count": 57,
      "outputs": [
        {
          "output_type": "execute_result",
          "data": {
            "text/html": [
              "<div>\n",
              "<style scoped>\n",
              "    .dataframe tbody tr th:only-of-type {\n",
              "        vertical-align: middle;\n",
              "    }\n",
              "\n",
              "    .dataframe tbody tr th {\n",
              "        vertical-align: top;\n",
              "    }\n",
              "\n",
              "    .dataframe thead th {\n",
              "        text-align: right;\n",
              "    }\n",
              "</style>\n",
              "<table border=\"1\" class=\"dataframe\">\n",
              "  <thead>\n",
              "    <tr style=\"text-align: right;\">\n",
              "      <th></th>\n",
              "      <th>AVG_DOWNHOLE_PRESSURE</th>\n",
              "      <th>AVG_DOWNHOLE_TEMPERATURE</th>\n",
              "      <th>AVG_DP_TUBING</th>\n",
              "      <th>AVG_CHOKE_SIZE_P</th>\n",
              "      <th>AVG_WHP_P</th>\n",
              "      <th>AVG_WHT_P</th>\n",
              "      <th>DP_CHOKE_SIZE</th>\n",
              "      <th>BORE_GAS_VOL</th>\n",
              "      <th>BORE_OIL_VOL</th>\n",
              "      <th>BORE_WAT_VOL</th>\n",
              "      <th>NPD_WELL_BORE_CODE</th>\n",
              "    </tr>\n",
              "    <tr>\n",
              "      <th>DATEPRD</th>\n",
              "      <th></th>\n",
              "      <th></th>\n",
              "      <th></th>\n",
              "      <th></th>\n",
              "      <th></th>\n",
              "      <th></th>\n",
              "      <th></th>\n",
              "      <th></th>\n",
              "      <th></th>\n",
              "      <th></th>\n",
              "      <th></th>\n",
              "    </tr>\n",
              "  </thead>\n",
              "  <tbody>\n",
              "    <tr>\n",
              "      <th>2008-02-12</th>\n",
              "      <td>308.055940</td>\n",
              "      <td>104.418090</td>\n",
              "      <td>201.250000</td>\n",
              "      <td>14.484431</td>\n",
              "      <td>106.805939</td>\n",
              "      <td>16.294718</td>\n",
              "      <td>92.475107</td>\n",
              "      <td>38888.67</td>\n",
              "      <td>284.65</td>\n",
              "      <td>385.01</td>\n",
              "      <td>5599</td>\n",
              "    </tr>\n",
              "    <tr>\n",
              "      <th>2008-03-01</th>\n",
              "      <td>286.891593</td>\n",
              "      <td>105.909089</td>\n",
              "      <td>178.064762</td>\n",
              "      <td>31.061881</td>\n",
              "      <td>108.826830</td>\n",
              "      <td>74.604204</td>\n",
              "      <td>75.573165</td>\n",
              "      <td>447584.12</td>\n",
              "      <td>3068.48</td>\n",
              "      <td>0.46</td>\n",
              "      <td>5599</td>\n",
              "    </tr>\n",
              "    <tr>\n",
              "      <th>2008-04-01</th>\n",
              "      <td>270.359619</td>\n",
              "      <td>105.889148</td>\n",
              "      <td>172.928235</td>\n",
              "      <td>29.812027</td>\n",
              "      <td>97.431384</td>\n",
              "      <td>73.537127</td>\n",
              "      <td>66.386227</td>\n",
              "      <td>457837.18</td>\n",
              "      <td>3060.60</td>\n",
              "      <td>2.82</td>\n",
              "      <td>5599</td>\n",
              "    </tr>\n",
              "    <tr>\n",
              "      <th>2008-05-20</th>\n",
              "      <td>297.645970</td>\n",
              "      <td>72.715428</td>\n",
              "      <td>216.382013</td>\n",
              "      <td>42.159007</td>\n",
              "      <td>81.263957</td>\n",
              "      <td>80.580994</td>\n",
              "      <td>47.850673</td>\n",
              "      <td>741919.56</td>\n",
              "      <td>4885.56</td>\n",
              "      <td>9.45</td>\n",
              "      <td>5599</td>\n",
              "    </tr>\n",
              "    <tr>\n",
              "      <th>2008-06-01</th>\n",
              "      <td>279.419100</td>\n",
              "      <td>104.823350</td>\n",
              "      <td>188.029470</td>\n",
              "      <td>16.827690</td>\n",
              "      <td>91.389630</td>\n",
              "      <td>22.054890</td>\n",
              "      <td>72.697430</td>\n",
              "      <td>11729.20</td>\n",
              "      <td>22.94</td>\n",
              "      <td>0.04</td>\n",
              "      <td>5599</td>\n",
              "    </tr>\n",
              "    <tr>\n",
              "      <th>...</th>\n",
              "      <td>...</td>\n",
              "      <td>...</td>\n",
              "      <td>...</td>\n",
              "      <td>...</td>\n",
              "      <td>...</td>\n",
              "      <td>...</td>\n",
              "      <td>...</td>\n",
              "      <td>...</td>\n",
              "      <td>...</td>\n",
              "      <td>...</td>\n",
              "      <td>...</td>\n",
              "    </tr>\n",
              "    <tr>\n",
              "      <th>2016-07-01</th>\n",
              "      <td>251.378686</td>\n",
              "      <td>105.294129</td>\n",
              "      <td>223.142554</td>\n",
              "      <td>100.000000</td>\n",
              "      <td>28.236131</td>\n",
              "      <td>82.243764</td>\n",
              "      <td>2.655629</td>\n",
              "      <td>77684.41</td>\n",
              "      <td>488.27</td>\n",
              "      <td>2417.32</td>\n",
              "      <td>7078</td>\n",
              "    </tr>\n",
              "    <tr>\n",
              "      <th>2016-07-01</th>\n",
              "      <td>269.892647</td>\n",
              "      <td>100.203321</td>\n",
              "      <td>238.911943</td>\n",
              "      <td>45.160793</td>\n",
              "      <td>30.980704</td>\n",
              "      <td>88.827264</td>\n",
              "      <td>5.323273</td>\n",
              "      <td>16369.86</td>\n",
              "      <td>102.89</td>\n",
              "      <td>2979.13</td>\n",
              "      <td>5351</td>\n",
              "    </tr>\n",
              "    <tr>\n",
              "      <th>2016-07-01</th>\n",
              "      <td>193.301846</td>\n",
              "      <td>106.538913</td>\n",
              "      <td>177.447030</td>\n",
              "      <td>31.058442</td>\n",
              "      <td>15.854815</td>\n",
              "      <td>49.112740</td>\n",
              "      <td>1.736589</td>\n",
              "      <td>23203.68</td>\n",
              "      <td>145.84</td>\n",
              "      <td>203.02</td>\n",
              "      <td>7289</td>\n",
              "    </tr>\n",
              "    <tr>\n",
              "      <th>2016-08-31</th>\n",
              "      <td>253.789975</td>\n",
              "      <td>105.173594</td>\n",
              "      <td>227.064838</td>\n",
              "      <td>100.000000</td>\n",
              "      <td>26.725137</td>\n",
              "      <td>80.798155</td>\n",
              "      <td>3.277643</td>\n",
              "      <td>84865.58</td>\n",
              "      <td>541.90</td>\n",
              "      <td>2972.19</td>\n",
              "      <td>7078</td>\n",
              "    </tr>\n",
              "    <tr>\n",
              "      <th>2016-09-09</th>\n",
              "      <td>253.819702</td>\n",
              "      <td>105.242695</td>\n",
              "      <td>226.951532</td>\n",
              "      <td>100.000000</td>\n",
              "      <td>26.868170</td>\n",
              "      <td>82.395254</td>\n",
              "      <td>3.378607</td>\n",
              "      <td>89482.00</td>\n",
              "      <td>528.35</td>\n",
              "      <td>2806.79</td>\n",
              "      <td>7078</td>\n",
              "    </tr>\n",
              "  </tbody>\n",
              "</table>\n",
              "<p>193 rows × 11 columns</p>\n",
              "</div>"
            ],
            "text/plain": [
              "            AVG_DOWNHOLE_PRESSURE  ...  NPD_WELL_BORE_CODE\n",
              "DATEPRD                            ...                    \n",
              "2008-02-12             308.055940  ...                5599\n",
              "2008-03-01             286.891593  ...                5599\n",
              "2008-04-01             270.359619  ...                5599\n",
              "2008-05-20             297.645970  ...                5599\n",
              "2008-06-01             279.419100  ...                5599\n",
              "...                           ...  ...                 ...\n",
              "2016-07-01             251.378686  ...                7078\n",
              "2016-07-01             269.892647  ...                5351\n",
              "2016-07-01             193.301846  ...                7289\n",
              "2016-08-31             253.789975  ...                7078\n",
              "2016-09-09             253.819702  ...                7078\n",
              "\n",
              "[193 rows x 11 columns]"
            ]
          },
          "metadata": {
            "tags": []
          },
          "execution_count": 57
        }
      ]
    },
    {
      "cell_type": "code",
      "metadata": {
        "colab": {
          "base_uri": "https://localhost:8080/",
          "height": 0
        },
        "id": "kwY4qT8ZJZYk",
        "outputId": "90de66d8-4895-4beb-aeea-de48913d8c77"
      },
      "source": [
        "from scipy import stats\n",
        "x = df_month['AVG_DOWNHOLE_PRESSURE'].to_list()\n",
        "\n",
        "stats.shapiro(x)"
      ],
      "execution_count": 59,
      "outputs": [
        {
          "output_type": "execute_result",
          "data": {
            "text/plain": [
              "(0.9809377193450928, 0.009923617355525494)"
            ]
          },
          "metadata": {
            "tags": []
          },
          "execution_count": 59
        }
      ]
    },
    {
      "cell_type": "code",
      "metadata": {
        "colab": {
          "base_uri": "https://localhost:8080/",
          "height": 0
        },
        "id": "ZfQADvJ8J_CD",
        "outputId": "8699cc63-29e2-4cef-bdb2-1c7447922078"
      },
      "source": [
        "stats.kstest(x, 'norm')"
      ],
      "execution_count": 60,
      "outputs": [
        {
          "output_type": "execute_result",
          "data": {
            "text/plain": [
              "KstestResult(statistic=1.0, pvalue=0.0)"
            ]
          },
          "metadata": {
            "tags": []
          },
          "execution_count": 60
        }
      ]
    },
    {
      "cell_type": "markdown",
      "metadata": {
        "id": "EsRaiRRKKati"
      },
      "source": [
        "The **Shapiro–Wilk** test is more appropriate method for small sample sizes (<50 samples) although it can also be handling on larger sample size while **kolmogorov–Smirnov** test is used for n ≥50. For both of the above tests, null hypothesis states that data are taken from normal distributed population. When P > 0.05, null hypothesis accepted and data are called as normally distributed"
      ]
    },
    {
      "cell_type": "code",
      "metadata": {
        "colab": {
          "base_uri": "https://localhost:8080/",
          "height": 291
        },
        "id": "kXTmm7wHKSkv",
        "outputId": "66c61c83-c143-485c-a6a8-b1147a053810"
      },
      "source": [
        "corr = df3.corr()\n",
        "corr.style.background_gradient(cmap='coolwarm').set_precision(3)"
      ],
      "execution_count": 65,
      "outputs": [
        {
          "output_type": "execute_result",
          "data": {
            "text/html": [
              "<style  type=\"text/css\" >\n",
              "#T_56935c9c_e347_11eb_88be_0242ac1c0002row0_col0,#T_56935c9c_e347_11eb_88be_0242ac1c0002row1_col1,#T_56935c9c_e347_11eb_88be_0242ac1c0002row2_col2,#T_56935c9c_e347_11eb_88be_0242ac1c0002row3_col3,#T_56935c9c_e347_11eb_88be_0242ac1c0002row4_col4,#T_56935c9c_e347_11eb_88be_0242ac1c0002row5_col5,#T_56935c9c_e347_11eb_88be_0242ac1c0002row6_col6,#T_56935c9c_e347_11eb_88be_0242ac1c0002row7_col7,#T_56935c9c_e347_11eb_88be_0242ac1c0002row7_col8,#T_56935c9c_e347_11eb_88be_0242ac1c0002row8_col7,#T_56935c9c_e347_11eb_88be_0242ac1c0002row8_col8,#T_56935c9c_e347_11eb_88be_0242ac1c0002row9_col9,#T_56935c9c_e347_11eb_88be_0242ac1c0002row10_col10{\n",
              "            background-color:  #b40426;\n",
              "            color:  #f1f1f1;\n",
              "        }#T_56935c9c_e347_11eb_88be_0242ac1c0002row0_col1{\n",
              "            background-color:  #84a7fc;\n",
              "            color:  #000000;\n",
              "        }#T_56935c9c_e347_11eb_88be_0242ac1c0002row0_col2{\n",
              "            background-color:  #f08a6c;\n",
              "            color:  #000000;\n",
              "        }#T_56935c9c_e347_11eb_88be_0242ac1c0002row0_col3{\n",
              "            background-color:  #f1cdba;\n",
              "            color:  #000000;\n",
              "        }#T_56935c9c_e347_11eb_88be_0242ac1c0002row0_col4{\n",
              "            background-color:  #dedcdb;\n",
              "            color:  #000000;\n",
              "        }#T_56935c9c_e347_11eb_88be_0242ac1c0002row0_col5{\n",
              "            background-color:  #f7ac8e;\n",
              "            color:  #000000;\n",
              "        }#T_56935c9c_e347_11eb_88be_0242ac1c0002row0_col6{\n",
              "            background-color:  #dcdddd;\n",
              "            color:  #000000;\n",
              "        }#T_56935c9c_e347_11eb_88be_0242ac1c0002row0_col7,#T_56935c9c_e347_11eb_88be_0242ac1c0002row0_col8{\n",
              "            background-color:  #a9c6fd;\n",
              "            color:  #000000;\n",
              "        }#T_56935c9c_e347_11eb_88be_0242ac1c0002row0_col9{\n",
              "            background-color:  #f5c1a9;\n",
              "            color:  #000000;\n",
              "        }#T_56935c9c_e347_11eb_88be_0242ac1c0002row0_col10{\n",
              "            background-color:  #6687ed;\n",
              "            color:  #000000;\n",
              "        }#T_56935c9c_e347_11eb_88be_0242ac1c0002row1_col0{\n",
              "            background-color:  #89acfd;\n",
              "            color:  #000000;\n",
              "        }#T_56935c9c_e347_11eb_88be_0242ac1c0002row1_col2{\n",
              "            background-color:  #6f92f3;\n",
              "            color:  #000000;\n",
              "        }#T_56935c9c_e347_11eb_88be_0242ac1c0002row1_col3{\n",
              "            background-color:  #5470de;\n",
              "            color:  #000000;\n",
              "        }#T_56935c9c_e347_11eb_88be_0242ac1c0002row1_col4{\n",
              "            background-color:  #e7d7ce;\n",
              "            color:  #000000;\n",
              "        }#T_56935c9c_e347_11eb_88be_0242ac1c0002row1_col5{\n",
              "            background-color:  #86a9fc;\n",
              "            color:  #000000;\n",
              "        }#T_56935c9c_e347_11eb_88be_0242ac1c0002row1_col6{\n",
              "            background-color:  #ebd3c6;\n",
              "            color:  #000000;\n",
              "        }#T_56935c9c_e347_11eb_88be_0242ac1c0002row1_col7,#T_56935c9c_e347_11eb_88be_0242ac1c0002row1_col8,#T_56935c9c_e347_11eb_88be_0242ac1c0002row4_col0{\n",
              "            background-color:  #d6dce4;\n",
              "            color:  #000000;\n",
              "        }#T_56935c9c_e347_11eb_88be_0242ac1c0002row1_col9,#T_56935c9c_e347_11eb_88be_0242ac1c0002row5_col1{\n",
              "            background-color:  #5572df;\n",
              "            color:  #000000;\n",
              "        }#T_56935c9c_e347_11eb_88be_0242ac1c0002row1_col10{\n",
              "            background-color:  #f7b497;\n",
              "            color:  #000000;\n",
              "        }#T_56935c9c_e347_11eb_88be_0242ac1c0002row2_col0{\n",
              "            background-color:  #f18f71;\n",
              "            color:  #000000;\n",
              "        }#T_56935c9c_e347_11eb_88be_0242ac1c0002row2_col1{\n",
              "            background-color:  #5875e1;\n",
              "            color:  #000000;\n",
              "        }#T_56935c9c_e347_11eb_88be_0242ac1c0002row2_col3{\n",
              "            background-color:  #ee8669;\n",
              "            color:  #000000;\n",
              "        }#T_56935c9c_e347_11eb_88be_0242ac1c0002row2_col4,#T_56935c9c_e347_11eb_88be_0242ac1c0002row2_col7,#T_56935c9c_e347_11eb_88be_0242ac1c0002row2_col8,#T_56935c9c_e347_11eb_88be_0242ac1c0002row4_col2,#T_56935c9c_e347_11eb_88be_0242ac1c0002row5_col10,#T_56935c9c_e347_11eb_88be_0242ac1c0002row6_col2,#T_56935c9c_e347_11eb_88be_0242ac1c0002row6_col3,#T_56935c9c_e347_11eb_88be_0242ac1c0002row6_col9,#T_56935c9c_e347_11eb_88be_0242ac1c0002row9_col1,#T_56935c9c_e347_11eb_88be_0242ac1c0002row9_col6,#T_56935c9c_e347_11eb_88be_0242ac1c0002row10_col0,#T_56935c9c_e347_11eb_88be_0242ac1c0002row10_col5{\n",
              "            background-color:  #3b4cc0;\n",
              "            color:  #f1f1f1;\n",
              "        }#T_56935c9c_e347_11eb_88be_0242ac1c0002row2_col5{\n",
              "            background-color:  #f7b093;\n",
              "            color:  #000000;\n",
              "        }#T_56935c9c_e347_11eb_88be_0242ac1c0002row2_col6{\n",
              "            background-color:  #3d50c3;\n",
              "            color:  #f1f1f1;\n",
              "        }#T_56935c9c_e347_11eb_88be_0242ac1c0002row2_col9,#T_56935c9c_e347_11eb_88be_0242ac1c0002row9_col2{\n",
              "            background-color:  #e36c55;\n",
              "            color:  #000000;\n",
              "        }#T_56935c9c_e347_11eb_88be_0242ac1c0002row2_col10{\n",
              "            background-color:  #88abfd;\n",
              "            color:  #000000;\n",
              "        }#T_56935c9c_e347_11eb_88be_0242ac1c0002row3_col0{\n",
              "            background-color:  #eed0c0;\n",
              "            color:  #000000;\n",
              "        }#T_56935c9c_e347_11eb_88be_0242ac1c0002row3_col1,#T_56935c9c_e347_11eb_88be_0242ac1c0002row3_col6,#T_56935c9c_e347_11eb_88be_0242ac1c0002row4_col3,#T_56935c9c_e347_11eb_88be_0242ac1c0002row10_col9{\n",
              "            background-color:  #445acc;\n",
              "            color:  #f1f1f1;\n",
              "        }#T_56935c9c_e347_11eb_88be_0242ac1c0002row3_col2,#T_56935c9c_e347_11eb_88be_0242ac1c0002row5_col3{\n",
              "            background-color:  #ee8468;\n",
              "            color:  #000000;\n",
              "        }#T_56935c9c_e347_11eb_88be_0242ac1c0002row3_col4{\n",
              "            background-color:  #4c66d6;\n",
              "            color:  #000000;\n",
              "        }#T_56935c9c_e347_11eb_88be_0242ac1c0002row3_col5,#T_56935c9c_e347_11eb_88be_0242ac1c0002row9_col5{\n",
              "            background-color:  #ea7b60;\n",
              "            color:  #000000;\n",
              "        }#T_56935c9c_e347_11eb_88be_0242ac1c0002row3_col7,#T_56935c9c_e347_11eb_88be_0242ac1c0002row3_col8{\n",
              "            background-color:  #92b4fe;\n",
              "            color:  #000000;\n",
              "        }#T_56935c9c_e347_11eb_88be_0242ac1c0002row3_col9{\n",
              "            background-color:  #e16751;\n",
              "            color:  #000000;\n",
              "        }#T_56935c9c_e347_11eb_88be_0242ac1c0002row3_col10,#T_56935c9c_e347_11eb_88be_0242ac1c0002row9_col8{\n",
              "            background-color:  #6282ea;\n",
              "            color:  #000000;\n",
              "        }#T_56935c9c_e347_11eb_88be_0242ac1c0002row4_col1{\n",
              "            background-color:  #dddcdc;\n",
              "            color:  #000000;\n",
              "        }#T_56935c9c_e347_11eb_88be_0242ac1c0002row4_col5{\n",
              "            background-color:  #b9d0f9;\n",
              "            color:  #000000;\n",
              "        }#T_56935c9c_e347_11eb_88be_0242ac1c0002row4_col6,#T_56935c9c_e347_11eb_88be_0242ac1c0002row6_col4{\n",
              "            background-color:  #b70d28;\n",
              "            color:  #f1f1f1;\n",
              "        }#T_56935c9c_e347_11eb_88be_0242ac1c0002row4_col7,#T_56935c9c_e347_11eb_88be_0242ac1c0002row4_col8{\n",
              "            background-color:  #f5a081;\n",
              "            color:  #000000;\n",
              "        }#T_56935c9c_e347_11eb_88be_0242ac1c0002row4_col9,#T_56935c9c_e347_11eb_88be_0242ac1c0002row10_col7{\n",
              "            background-color:  #455cce;\n",
              "            color:  #f1f1f1;\n",
              "        }#T_56935c9c_e347_11eb_88be_0242ac1c0002row4_col10{\n",
              "            background-color:  #b5cdfa;\n",
              "            color:  #000000;\n",
              "        }#T_56935c9c_e347_11eb_88be_0242ac1c0002row5_col0{\n",
              "            background-color:  #f7bca1;\n",
              "            color:  #000000;\n",
              "        }#T_56935c9c_e347_11eb_88be_0242ac1c0002row5_col2{\n",
              "            background-color:  #f7b99e;\n",
              "            color:  #000000;\n",
              "        }#T_56935c9c_e347_11eb_88be_0242ac1c0002row5_col4{\n",
              "            background-color:  #a5c3fe;\n",
              "            color:  #000000;\n",
              "        }#T_56935c9c_e347_11eb_88be_0242ac1c0002row5_col6{\n",
              "            background-color:  #96b7ff;\n",
              "            color:  #000000;\n",
              "        }#T_56935c9c_e347_11eb_88be_0242ac1c0002row5_col7,#T_56935c9c_e347_11eb_88be_0242ac1c0002row6_col1{\n",
              "            background-color:  #e1dad6;\n",
              "            color:  #000000;\n",
              "        }#T_56935c9c_e347_11eb_88be_0242ac1c0002row5_col8{\n",
              "            background-color:  #e0dbd8;\n",
              "            color:  #000000;\n",
              "        }#T_56935c9c_e347_11eb_88be_0242ac1c0002row5_col9{\n",
              "            background-color:  #ed8366;\n",
              "            color:  #000000;\n",
              "        }#T_56935c9c_e347_11eb_88be_0242ac1c0002row6_col0{\n",
              "            background-color:  #d3dbe7;\n",
              "            color:  #000000;\n",
              "        }#T_56935c9c_e347_11eb_88be_0242ac1c0002row6_col5{\n",
              "            background-color:  #aac7fd;\n",
              "            color:  #000000;\n",
              "        }#T_56935c9c_e347_11eb_88be_0242ac1c0002row6_col7,#T_56935c9c_e347_11eb_88be_0242ac1c0002row6_col8{\n",
              "            background-color:  #f7b194;\n",
              "            color:  #000000;\n",
              "        }#T_56935c9c_e347_11eb_88be_0242ac1c0002row6_col10{\n",
              "            background-color:  #c6d6f1;\n",
              "            color:  #000000;\n",
              "        }#T_56935c9c_e347_11eb_88be_0242ac1c0002row7_col0,#T_56935c9c_e347_11eb_88be_0242ac1c0002row8_col0{\n",
              "            background-color:  #b1cbfc;\n",
              "            color:  #000000;\n",
              "        }#T_56935c9c_e347_11eb_88be_0242ac1c0002row7_col1,#T_56935c9c_e347_11eb_88be_0242ac1c0002row8_col1{\n",
              "            background-color:  #d8dce2;\n",
              "            color:  #000000;\n",
              "        }#T_56935c9c_e347_11eb_88be_0242ac1c0002row7_col2,#T_56935c9c_e347_11eb_88be_0242ac1c0002row8_col2{\n",
              "            background-color:  #5673e0;\n",
              "            color:  #000000;\n",
              "        }#T_56935c9c_e347_11eb_88be_0242ac1c0002row7_col3{\n",
              "            background-color:  #a3c2fe;\n",
              "            color:  #000000;\n",
              "        }#T_56935c9c_e347_11eb_88be_0242ac1c0002row7_col4{\n",
              "            background-color:  #f39577;\n",
              "            color:  #000000;\n",
              "        }#T_56935c9c_e347_11eb_88be_0242ac1c0002row7_col5{\n",
              "            background-color:  #f2cbb7;\n",
              "            color:  #000000;\n",
              "        }#T_56935c9c_e347_11eb_88be_0242ac1c0002row7_col6,#T_56935c9c_e347_11eb_88be_0242ac1c0002row8_col6{\n",
              "            background-color:  #f7a688;\n",
              "            color:  #000000;\n",
              "        }#T_56935c9c_e347_11eb_88be_0242ac1c0002row7_col9{\n",
              "            background-color:  #82a6fb;\n",
              "            color:  #000000;\n",
              "        }#T_56935c9c_e347_11eb_88be_0242ac1c0002row7_col10,#T_56935c9c_e347_11eb_88be_0242ac1c0002row8_col10{\n",
              "            background-color:  #7b9ff9;\n",
              "            color:  #000000;\n",
              "        }#T_56935c9c_e347_11eb_88be_0242ac1c0002row8_col3{\n",
              "            background-color:  #a2c1ff;\n",
              "            color:  #000000;\n",
              "        }#T_56935c9c_e347_11eb_88be_0242ac1c0002row8_col4{\n",
              "            background-color:  #f39778;\n",
              "            color:  #000000;\n",
              "        }#T_56935c9c_e347_11eb_88be_0242ac1c0002row8_col5{\n",
              "            background-color:  #f1ccb8;\n",
              "            color:  #000000;\n",
              "        }#T_56935c9c_e347_11eb_88be_0242ac1c0002row8_col9{\n",
              "            background-color:  #80a3fa;\n",
              "            color:  #000000;\n",
              "        }#T_56935c9c_e347_11eb_88be_0242ac1c0002row9_col0{\n",
              "            background-color:  #f2c9b4;\n",
              "            color:  #000000;\n",
              "        }#T_56935c9c_e347_11eb_88be_0242ac1c0002row9_col3{\n",
              "            background-color:  #e36b54;\n",
              "            color:  #000000;\n",
              "        }#T_56935c9c_e347_11eb_88be_0242ac1c0002row9_col4{\n",
              "            background-color:  #4257c9;\n",
              "            color:  #f1f1f1;\n",
              "        }#T_56935c9c_e347_11eb_88be_0242ac1c0002row9_col7{\n",
              "            background-color:  #6384eb;\n",
              "            color:  #000000;\n",
              "        }#T_56935c9c_e347_11eb_88be_0242ac1c0002row9_col10{\n",
              "            background-color:  #5d7ce6;\n",
              "            color:  #000000;\n",
              "        }#T_56935c9c_e347_11eb_88be_0242ac1c0002row10_col1{\n",
              "            background-color:  #f3c7b1;\n",
              "            color:  #000000;\n",
              "        }#T_56935c9c_e347_11eb_88be_0242ac1c0002row10_col2{\n",
              "            background-color:  #6e90f2;\n",
              "            color:  #000000;\n",
              "        }#T_56935c9c_e347_11eb_88be_0242ac1c0002row10_col3{\n",
              "            background-color:  #3f53c6;\n",
              "            color:  #f1f1f1;\n",
              "        }#T_56935c9c_e347_11eb_88be_0242ac1c0002row10_col4{\n",
              "            background-color:  #9fbfff;\n",
              "            color:  #000000;\n",
              "        }#T_56935c9c_e347_11eb_88be_0242ac1c0002row10_col6{\n",
              "            background-color:  #b6cefa;\n",
              "            color:  #000000;\n",
              "        }#T_56935c9c_e347_11eb_88be_0242ac1c0002row10_col8{\n",
              "            background-color:  #465ecf;\n",
              "            color:  #f1f1f1;\n",
              "        }</style><table id=\"T_56935c9c_e347_11eb_88be_0242ac1c0002\" ><thead>    <tr>        <th class=\"blank level0\" ></th>        <th class=\"col_heading level0 col0\" >AVG_DOWNHOLE_PRESSURE</th>        <th class=\"col_heading level0 col1\" >AVG_DOWNHOLE_TEMPERATURE</th>        <th class=\"col_heading level0 col2\" >AVG_DP_TUBING</th>        <th class=\"col_heading level0 col3\" >AVG_CHOKE_SIZE_P</th>        <th class=\"col_heading level0 col4\" >AVG_WHP_P</th>        <th class=\"col_heading level0 col5\" >AVG_WHT_P</th>        <th class=\"col_heading level0 col6\" >DP_CHOKE_SIZE</th>        <th class=\"col_heading level0 col7\" >BORE_GAS_VOL</th>        <th class=\"col_heading level0 col8\" >BORE_OIL_VOL</th>        <th class=\"col_heading level0 col9\" >BORE_WAT_VOL</th>        <th class=\"col_heading level0 col10\" >NPD_WELL_BORE_CODE</th>    </tr></thead><tbody>\n",
              "                <tr>\n",
              "                        <th id=\"T_56935c9c_e347_11eb_88be_0242ac1c0002level0_row0\" class=\"row_heading level0 row0\" >AVG_DOWNHOLE_PRESSURE</th>\n",
              "                        <td id=\"T_56935c9c_e347_11eb_88be_0242ac1c0002row0_col0\" class=\"data row0 col0\" >1.000</td>\n",
              "                        <td id=\"T_56935c9c_e347_11eb_88be_0242ac1c0002row0_col1\" class=\"data row0 col1\" >-0.137</td>\n",
              "                        <td id=\"T_56935c9c_e347_11eb_88be_0242ac1c0002row0_col2\" class=\"data row0 col2\" >0.664</td>\n",
              "                        <td id=\"T_56935c9c_e347_11eb_88be_0242ac1c0002row0_col3\" class=\"data row0 col3\" >0.366</td>\n",
              "                        <td id=\"T_56935c9c_e347_11eb_88be_0242ac1c0002row0_col4\" class=\"data row0 col4\" >0.212</td>\n",
              "                        <td id=\"T_56935c9c_e347_11eb_88be_0242ac1c0002row0_col5\" class=\"data row0 col5\" >0.482</td>\n",
              "                        <td id=\"T_56935c9c_e347_11eb_88be_0242ac1c0002row0_col6\" class=\"data row0 col6\" >0.196</td>\n",
              "                        <td id=\"T_56935c9c_e347_11eb_88be_0242ac1c0002row0_col7\" class=\"data row0 col7\" >0.033</td>\n",
              "                        <td id=\"T_56935c9c_e347_11eb_88be_0242ac1c0002row0_col8\" class=\"data row0 col8\" >0.029</td>\n",
              "                        <td id=\"T_56935c9c_e347_11eb_88be_0242ac1c0002row0_col9\" class=\"data row0 col9\" >0.411</td>\n",
              "                        <td id=\"T_56935c9c_e347_11eb_88be_0242ac1c0002row0_col10\" class=\"data row0 col10\" >-0.499</td>\n",
              "            </tr>\n",
              "            <tr>\n",
              "                        <th id=\"T_56935c9c_e347_11eb_88be_0242ac1c0002level0_row1\" class=\"row_heading level0 row1\" >AVG_DOWNHOLE_TEMPERATURE</th>\n",
              "                        <td id=\"T_56935c9c_e347_11eb_88be_0242ac1c0002row1_col0\" class=\"data row1 col0\" >-0.137</td>\n",
              "                        <td id=\"T_56935c9c_e347_11eb_88be_0242ac1c0002row1_col1\" class=\"data row1 col1\" >1.000</td>\n",
              "                        <td id=\"T_56935c9c_e347_11eb_88be_0242ac1c0002row1_col2\" class=\"data row1 col2\" >-0.325</td>\n",
              "                        <td id=\"T_56935c9c_e347_11eb_88be_0242ac1c0002row1_col3\" class=\"data row1 col3\" >-0.418</td>\n",
              "                        <td id=\"T_56935c9c_e347_11eb_88be_0242ac1c0002row1_col4\" class=\"data row1 col4\" >0.273</td>\n",
              "                        <td id=\"T_56935c9c_e347_11eb_88be_0242ac1c0002row1_col5\" class=\"data row1 col5\" >-0.338</td>\n",
              "                        <td id=\"T_56935c9c_e347_11eb_88be_0242ac1c0002row1_col6\" class=\"data row1 col6\" >0.295</td>\n",
              "                        <td id=\"T_56935c9c_e347_11eb_88be_0242ac1c0002row1_col7\" class=\"data row1 col7\" >0.241</td>\n",
              "                        <td id=\"T_56935c9c_e347_11eb_88be_0242ac1c0002row1_col8\" class=\"data row1 col8\" >0.243</td>\n",
              "                        <td id=\"T_56935c9c_e347_11eb_88be_0242ac1c0002row1_col9\" class=\"data row1 col9\" >-0.466</td>\n",
              "                        <td id=\"T_56935c9c_e347_11eb_88be_0242ac1c0002row1_col10\" class=\"data row1 col10\" >0.439</td>\n",
              "            </tr>\n",
              "            <tr>\n",
              "                        <th id=\"T_56935c9c_e347_11eb_88be_0242ac1c0002level0_row2\" class=\"row_heading level0 row2\" >AVG_DP_TUBING</th>\n",
              "                        <td id=\"T_56935c9c_e347_11eb_88be_0242ac1c0002row2_col0\" class=\"data row2 col0\" >0.664</td>\n",
              "                        <td id=\"T_56935c9c_e347_11eb_88be_0242ac1c0002row2_col1\" class=\"data row2 col1\" >-0.325</td>\n",
              "                        <td id=\"T_56935c9c_e347_11eb_88be_0242ac1c0002row2_col2\" class=\"data row2 col2\" >1.000</td>\n",
              "                        <td id=\"T_56935c9c_e347_11eb_88be_0242ac1c0002row2_col3\" class=\"data row2 col3\" >0.683</td>\n",
              "                        <td id=\"T_56935c9c_e347_11eb_88be_0242ac1c0002row2_col4\" class=\"data row2 col4\" >-0.591</td>\n",
              "                        <td id=\"T_56935c9c_e347_11eb_88be_0242ac1c0002row2_col5\" class=\"data row2 col5\" >0.462</td>\n",
              "                        <td id=\"T_56935c9c_e347_11eb_88be_0242ac1c0002row2_col6\" class=\"data row2 col6\" >-0.590</td>\n",
              "                        <td id=\"T_56935c9c_e347_11eb_88be_0242ac1c0002row2_col7\" class=\"data row2 col7\" >-0.444</td>\n",
              "                        <td id=\"T_56935c9c_e347_11eb_88be_0242ac1c0002row2_col8\" class=\"data row2 col8\" >-0.447</td>\n",
              "                        <td id=\"T_56935c9c_e347_11eb_88be_0242ac1c0002row2_col9\" class=\"data row2 col9\" >0.759</td>\n",
              "                        <td id=\"T_56935c9c_e347_11eb_88be_0242ac1c0002row2_col10\" class=\"data row2 col10\" >-0.330</td>\n",
              "            </tr>\n",
              "            <tr>\n",
              "                        <th id=\"T_56935c9c_e347_11eb_88be_0242ac1c0002level0_row3\" class=\"row_heading level0 row3\" >AVG_CHOKE_SIZE_P</th>\n",
              "                        <td id=\"T_56935c9c_e347_11eb_88be_0242ac1c0002row3_col0\" class=\"data row3 col0\" >0.366</td>\n",
              "                        <td id=\"T_56935c9c_e347_11eb_88be_0242ac1c0002row3_col1\" class=\"data row3 col1\" >-0.418</td>\n",
              "                        <td id=\"T_56935c9c_e347_11eb_88be_0242ac1c0002row3_col2\" class=\"data row3 col2\" >0.683</td>\n",
              "                        <td id=\"T_56935c9c_e347_11eb_88be_0242ac1c0002row3_col3\" class=\"data row3 col3\" >1.000</td>\n",
              "                        <td id=\"T_56935c9c_e347_11eb_88be_0242ac1c0002row3_col4\" class=\"data row3 col4\" >-0.496</td>\n",
              "                        <td id=\"T_56935c9c_e347_11eb_88be_0242ac1c0002row3_col5\" class=\"data row3 col5\" >0.686</td>\n",
              "                        <td id=\"T_56935c9c_e347_11eb_88be_0242ac1c0002row3_col6\" class=\"data row3 col6\" >-0.549</td>\n",
              "                        <td id=\"T_56935c9c_e347_11eb_88be_0242ac1c0002row3_col7\" class=\"data row3 col7\" >-0.062</td>\n",
              "                        <td id=\"T_56935c9c_e347_11eb_88be_0242ac1c0002row3_col8\" class=\"data row3 col8\" >-0.066</td>\n",
              "                        <td id=\"T_56935c9c_e347_11eb_88be_0242ac1c0002row3_col9\" class=\"data row3 col9\" >0.774</td>\n",
              "                        <td id=\"T_56935c9c_e347_11eb_88be_0242ac1c0002row3_col10\" class=\"data row3 col10\" >-0.522</td>\n",
              "            </tr>\n",
              "            <tr>\n",
              "                        <th id=\"T_56935c9c_e347_11eb_88be_0242ac1c0002level0_row4\" class=\"row_heading level0 row4\" >AVG_WHP_P</th>\n",
              "                        <td id=\"T_56935c9c_e347_11eb_88be_0242ac1c0002row4_col0\" class=\"data row4 col0\" >0.212</td>\n",
              "                        <td id=\"T_56935c9c_e347_11eb_88be_0242ac1c0002row4_col1\" class=\"data row4 col1\" >0.273</td>\n",
              "                        <td id=\"T_56935c9c_e347_11eb_88be_0242ac1c0002row4_col2\" class=\"data row4 col2\" >-0.591</td>\n",
              "                        <td id=\"T_56935c9c_e347_11eb_88be_0242ac1c0002row4_col3\" class=\"data row4 col3\" >-0.496</td>\n",
              "                        <td id=\"T_56935c9c_e347_11eb_88be_0242ac1c0002row4_col4\" class=\"data row4 col4\" >1.000</td>\n",
              "                        <td id=\"T_56935c9c_e347_11eb_88be_0242ac1c0002row4_col5\" class=\"data row4 col5\" >-0.083</td>\n",
              "                        <td id=\"T_56935c9c_e347_11eb_88be_0242ac1c0002row4_col6\" class=\"data row4 col6\" >0.983</td>\n",
              "                        <td id=\"T_56935c9c_e347_11eb_88be_0242ac1c0002row4_col7\" class=\"data row4 col7\" >0.616</td>\n",
              "                        <td id=\"T_56935c9c_e347_11eb_88be_0242ac1c0002row4_col8\" class=\"data row4 col8\" >0.615</td>\n",
              "                        <td id=\"T_56935c9c_e347_11eb_88be_0242ac1c0002row4_col9\" class=\"data row4 col9\" >-0.548</td>\n",
              "                        <td id=\"T_56935c9c_e347_11eb_88be_0242ac1c0002row4_col10\" class=\"data row4 col10\" >-0.108</td>\n",
              "            </tr>\n",
              "            <tr>\n",
              "                        <th id=\"T_56935c9c_e347_11eb_88be_0242ac1c0002level0_row5\" class=\"row_heading level0 row5\" >AVG_WHT_P</th>\n",
              "                        <td id=\"T_56935c9c_e347_11eb_88be_0242ac1c0002row5_col0\" class=\"data row5 col0\" >0.482</td>\n",
              "                        <td id=\"T_56935c9c_e347_11eb_88be_0242ac1c0002row5_col1\" class=\"data row5 col1\" >-0.338</td>\n",
              "                        <td id=\"T_56935c9c_e347_11eb_88be_0242ac1c0002row5_col2\" class=\"data row5 col2\" >0.462</td>\n",
              "                        <td id=\"T_56935c9c_e347_11eb_88be_0242ac1c0002row5_col3\" class=\"data row5 col3\" >0.686</td>\n",
              "                        <td id=\"T_56935c9c_e347_11eb_88be_0242ac1c0002row5_col4\" class=\"data row5 col4\" >-0.083</td>\n",
              "                        <td id=\"T_56935c9c_e347_11eb_88be_0242ac1c0002row5_col5\" class=\"data row5 col5\" >1.000</td>\n",
              "                        <td id=\"T_56935c9c_e347_11eb_88be_0242ac1c0002row5_col6\" class=\"data row5 col6\" >-0.160</td>\n",
              "                        <td id=\"T_56935c9c_e347_11eb_88be_0242ac1c0002row5_col7\" class=\"data row5 col7\" >0.304</td>\n",
              "                        <td id=\"T_56935c9c_e347_11eb_88be_0242ac1c0002row5_col8\" class=\"data row5 col8\" >0.296</td>\n",
              "                        <td id=\"T_56935c9c_e347_11eb_88be_0242ac1c0002row5_col9\" class=\"data row5 col9\" >0.684</td>\n",
              "                        <td id=\"T_56935c9c_e347_11eb_88be_0242ac1c0002row5_col10\" class=\"data row5 col10\" >-0.742</td>\n",
              "            </tr>\n",
              "            <tr>\n",
              "                        <th id=\"T_56935c9c_e347_11eb_88be_0242ac1c0002level0_row6\" class=\"row_heading level0 row6\" >DP_CHOKE_SIZE</th>\n",
              "                        <td id=\"T_56935c9c_e347_11eb_88be_0242ac1c0002row6_col0\" class=\"data row6 col0\" >0.196</td>\n",
              "                        <td id=\"T_56935c9c_e347_11eb_88be_0242ac1c0002row6_col1\" class=\"data row6 col1\" >0.295</td>\n",
              "                        <td id=\"T_56935c9c_e347_11eb_88be_0242ac1c0002row6_col2\" class=\"data row6 col2\" >-0.590</td>\n",
              "                        <td id=\"T_56935c9c_e347_11eb_88be_0242ac1c0002row6_col3\" class=\"data row6 col3\" >-0.549</td>\n",
              "                        <td id=\"T_56935c9c_e347_11eb_88be_0242ac1c0002row6_col4\" class=\"data row6 col4\" >0.983</td>\n",
              "                        <td id=\"T_56935c9c_e347_11eb_88be_0242ac1c0002row6_col5\" class=\"data row6 col5\" >-0.160</td>\n",
              "                        <td id=\"T_56935c9c_e347_11eb_88be_0242ac1c0002row6_col6\" class=\"data row6 col6\" >1.000</td>\n",
              "                        <td id=\"T_56935c9c_e347_11eb_88be_0242ac1c0002row6_col7\" class=\"data row6 col7\" >0.547</td>\n",
              "                        <td id=\"T_56935c9c_e347_11eb_88be_0242ac1c0002row6_col8\" class=\"data row6 col8\" >0.545</td>\n",
              "                        <td id=\"T_56935c9c_e347_11eb_88be_0242ac1c0002row6_col9\" class=\"data row6 col9\" >-0.604</td>\n",
              "                        <td id=\"T_56935c9c_e347_11eb_88be_0242ac1c0002row6_col10\" class=\"data row6 col10\" >-0.012</td>\n",
              "            </tr>\n",
              "            <tr>\n",
              "                        <th id=\"T_56935c9c_e347_11eb_88be_0242ac1c0002level0_row7\" class=\"row_heading level0 row7\" >BORE_GAS_VOL</th>\n",
              "                        <td id=\"T_56935c9c_e347_11eb_88be_0242ac1c0002row7_col0\" class=\"data row7 col0\" >0.033</td>\n",
              "                        <td id=\"T_56935c9c_e347_11eb_88be_0242ac1c0002row7_col1\" class=\"data row7 col1\" >0.241</td>\n",
              "                        <td id=\"T_56935c9c_e347_11eb_88be_0242ac1c0002row7_col2\" class=\"data row7 col2\" >-0.444</td>\n",
              "                        <td id=\"T_56935c9c_e347_11eb_88be_0242ac1c0002row7_col3\" class=\"data row7 col3\" >-0.062</td>\n",
              "                        <td id=\"T_56935c9c_e347_11eb_88be_0242ac1c0002row7_col4\" class=\"data row7 col4\" >0.616</td>\n",
              "                        <td id=\"T_56935c9c_e347_11eb_88be_0242ac1c0002row7_col5\" class=\"data row7 col5\" >0.304</td>\n",
              "                        <td id=\"T_56935c9c_e347_11eb_88be_0242ac1c0002row7_col6\" class=\"data row7 col6\" >0.547</td>\n",
              "                        <td id=\"T_56935c9c_e347_11eb_88be_0242ac1c0002row7_col7\" class=\"data row7 col7\" >1.000</td>\n",
              "                        <td id=\"T_56935c9c_e347_11eb_88be_0242ac1c0002row7_col8\" class=\"data row7 col8\" >0.998</td>\n",
              "                        <td id=\"T_56935c9c_e347_11eb_88be_0242ac1c0002row7_col9\" class=\"data row7 col9\" >-0.253</td>\n",
              "                        <td id=\"T_56935c9c_e347_11eb_88be_0242ac1c0002row7_col10\" class=\"data row7 col10\" >-0.390</td>\n",
              "            </tr>\n",
              "            <tr>\n",
              "                        <th id=\"T_56935c9c_e347_11eb_88be_0242ac1c0002level0_row8\" class=\"row_heading level0 row8\" >BORE_OIL_VOL</th>\n",
              "                        <td id=\"T_56935c9c_e347_11eb_88be_0242ac1c0002row8_col0\" class=\"data row8 col0\" >0.029</td>\n",
              "                        <td id=\"T_56935c9c_e347_11eb_88be_0242ac1c0002row8_col1\" class=\"data row8 col1\" >0.243</td>\n",
              "                        <td id=\"T_56935c9c_e347_11eb_88be_0242ac1c0002row8_col2\" class=\"data row8 col2\" >-0.447</td>\n",
              "                        <td id=\"T_56935c9c_e347_11eb_88be_0242ac1c0002row8_col3\" class=\"data row8 col3\" >-0.066</td>\n",
              "                        <td id=\"T_56935c9c_e347_11eb_88be_0242ac1c0002row8_col4\" class=\"data row8 col4\" >0.615</td>\n",
              "                        <td id=\"T_56935c9c_e347_11eb_88be_0242ac1c0002row8_col5\" class=\"data row8 col5\" >0.296</td>\n",
              "                        <td id=\"T_56935c9c_e347_11eb_88be_0242ac1c0002row8_col6\" class=\"data row8 col6\" >0.545</td>\n",
              "                        <td id=\"T_56935c9c_e347_11eb_88be_0242ac1c0002row8_col7\" class=\"data row8 col7\" >0.998</td>\n",
              "                        <td id=\"T_56935c9c_e347_11eb_88be_0242ac1c0002row8_col8\" class=\"data row8 col8\" >1.000</td>\n",
              "                        <td id=\"T_56935c9c_e347_11eb_88be_0242ac1c0002row8_col9\" class=\"data row8 col9\" >-0.266</td>\n",
              "                        <td id=\"T_56935c9c_e347_11eb_88be_0242ac1c0002row8_col10\" class=\"data row8 col10\" >-0.388</td>\n",
              "            </tr>\n",
              "            <tr>\n",
              "                        <th id=\"T_56935c9c_e347_11eb_88be_0242ac1c0002level0_row9\" class=\"row_heading level0 row9\" >BORE_WAT_VOL</th>\n",
              "                        <td id=\"T_56935c9c_e347_11eb_88be_0242ac1c0002row9_col0\" class=\"data row9 col0\" >0.411</td>\n",
              "                        <td id=\"T_56935c9c_e347_11eb_88be_0242ac1c0002row9_col1\" class=\"data row9 col1\" >-0.466</td>\n",
              "                        <td id=\"T_56935c9c_e347_11eb_88be_0242ac1c0002row9_col2\" class=\"data row9 col2\" >0.759</td>\n",
              "                        <td id=\"T_56935c9c_e347_11eb_88be_0242ac1c0002row9_col3\" class=\"data row9 col3\" >0.774</td>\n",
              "                        <td id=\"T_56935c9c_e347_11eb_88be_0242ac1c0002row9_col4\" class=\"data row9 col4\" >-0.548</td>\n",
              "                        <td id=\"T_56935c9c_e347_11eb_88be_0242ac1c0002row9_col5\" class=\"data row9 col5\" >0.684</td>\n",
              "                        <td id=\"T_56935c9c_e347_11eb_88be_0242ac1c0002row9_col6\" class=\"data row9 col6\" >-0.604</td>\n",
              "                        <td id=\"T_56935c9c_e347_11eb_88be_0242ac1c0002row9_col7\" class=\"data row9 col7\" >-0.253</td>\n",
              "                        <td id=\"T_56935c9c_e347_11eb_88be_0242ac1c0002row9_col8\" class=\"data row9 col8\" >-0.266</td>\n",
              "                        <td id=\"T_56935c9c_e347_11eb_88be_0242ac1c0002row9_col9\" class=\"data row9 col9\" >1.000</td>\n",
              "                        <td id=\"T_56935c9c_e347_11eb_88be_0242ac1c0002row9_col10\" class=\"data row9 col10\" >-0.548</td>\n",
              "            </tr>\n",
              "            <tr>\n",
              "                        <th id=\"T_56935c9c_e347_11eb_88be_0242ac1c0002level0_row10\" class=\"row_heading level0 row10\" >NPD_WELL_BORE_CODE</th>\n",
              "                        <td id=\"T_56935c9c_e347_11eb_88be_0242ac1c0002row10_col0\" class=\"data row10 col0\" >-0.499</td>\n",
              "                        <td id=\"T_56935c9c_e347_11eb_88be_0242ac1c0002row10_col1\" class=\"data row10 col1\" >0.439</td>\n",
              "                        <td id=\"T_56935c9c_e347_11eb_88be_0242ac1c0002row10_col2\" class=\"data row10 col2\" >-0.330</td>\n",
              "                        <td id=\"T_56935c9c_e347_11eb_88be_0242ac1c0002row10_col3\" class=\"data row10 col3\" >-0.522</td>\n",
              "                        <td id=\"T_56935c9c_e347_11eb_88be_0242ac1c0002row10_col4\" class=\"data row10 col4\" >-0.108</td>\n",
              "                        <td id=\"T_56935c9c_e347_11eb_88be_0242ac1c0002row10_col5\" class=\"data row10 col5\" >-0.742</td>\n",
              "                        <td id=\"T_56935c9c_e347_11eb_88be_0242ac1c0002row10_col6\" class=\"data row10 col6\" >-0.012</td>\n",
              "                        <td id=\"T_56935c9c_e347_11eb_88be_0242ac1c0002row10_col7\" class=\"data row10 col7\" >-0.390</td>\n",
              "                        <td id=\"T_56935c9c_e347_11eb_88be_0242ac1c0002row10_col8\" class=\"data row10 col8\" >-0.388</td>\n",
              "                        <td id=\"T_56935c9c_e347_11eb_88be_0242ac1c0002row10_col9\" class=\"data row10 col9\" >-0.548</td>\n",
              "                        <td id=\"T_56935c9c_e347_11eb_88be_0242ac1c0002row10_col10\" class=\"data row10 col10\" >1.000</td>\n",
              "            </tr>\n",
              "    </tbody></table>"
            ],
            "text/plain": [
              "<pandas.io.formats.style.Styler at 0x7f3517ff9d90>"
            ]
          },
          "metadata": {
            "tags": []
          },
          "execution_count": 65
        }
      ]
    },
    {
      "cell_type": "code",
      "metadata": {
        "colab": {
          "base_uri": "https://localhost:8080/",
          "height": 765
        },
        "id": "ZgjDi1vxLQon",
        "outputId": "389087d0-c962-470f-eea4-bd9fcba56e03"
      },
      "source": [
        "import seaborn as sns\n",
        "corr = df3.corr()\n",
        "fig, ax = plt.subplots(figsize=(12,10))\n",
        "sns.heatmap(corr, cmap=\"Blues\", annot=True)"
      ],
      "execution_count": 68,
      "outputs": [
        {
          "output_type": "execute_result",
          "data": {
            "text/plain": [
              "<matplotlib.axes._subplots.AxesSubplot at 0x7f350da39590>"
            ]
          },
          "metadata": {
            "tags": []
          },
          "execution_count": 68
        },
        {
          "output_type": "display_data",
          "data": {
            "image/png": "[encoded data removed]",
            "text/plain": [
              "<Figure size 864x720 with 2 Axes>"
            ]
          },
          "metadata": {
            "tags": [],
            "needs_background": "light"
          }
        }
      ]
    },
    {
      "cell_type": "markdown",
      "metadata": {
        "id": "CNAlC9JLNFL4"
      },
      "source": [
        "### Outlier Detection"
      ]
    },
    {
      "cell_type": "code",
      "metadata": {
        "colab": {
          "base_uri": "https://localhost:8080/",
          "height": 0
        },
        "id": "6CHl5MYCMkHM",
        "outputId": "5b24e4fd-9860-456f-f93d-bc29b11fb76c"
      },
      "source": [
        "import numpy as np\n",
        "Q1 = np.percentile(df3['AVG_DOWNHOLE_PRESSURE'], 25, interpolation = 'midpoint') \n",
        "Q2 = np.percentile(df3['AVG_DOWNHOLE_PRESSURE'], 50, interpolation = 'midpoint') \n",
        "Q3 = np.percentile(df3['AVG_DOWNHOLE_PRESSURE'], 75, interpolation = 'midpoint') \n",
        "  \n",
        "print('Q1 25 percentile of the given data is, ', Q1)\n",
        "print('Q1 50 percentile of the given data is, ', Q2)\n",
        "print('Q1 75 percentile of the given data is, ', Q3)\n",
        "  \n",
        "IQR = Q3 - Q1 \n",
        "print('Interquartile range is', IQR)"
      ],
      "execution_count": 71,
      "outputs": [
        {
          "output_type": "stream",
          "text": [
            "Q1 25 percentile of the given data is,  223.7555209375\n",
            "Q1 50 percentile of the given data is,  243.615663125\n",
            "Q1 75 percentile of the given data is,  258.1354132291667\n",
            "Interquartile range is 34.37989229166672\n"
          ],
          "name": "stdout"
        }
      ]
    },
    {
      "cell_type": "code",
      "metadata": {
        "colab": {
          "base_uri": "https://localhost:8080/",
          "height": 0
        },
        "id": "hvfARfCHNnzh",
        "outputId": "7a59a073-e908-467c-d629-dd29d8248ed7"
      },
      "source": [
        "low_lim = Q1 - 1.5 * IQR\n",
        "up_lim = Q3 + 1.5 * IQR\n",
        "print('low_limit is', low_lim)\n",
        "print('up_limit is', up_lim)"
      ],
      "execution_count": 72,
      "outputs": [
        {
          "output_type": "stream",
          "text": [
            "low_limit is 172.18568249999993\n",
            "up_limit is 309.7052516666668\n"
          ],
          "name": "stdout"
        }
      ]
    },
    {
      "cell_type": "code",
      "metadata": {
        "colab": {
          "base_uri": "https://localhost:8080/",
          "height": 0
        },
        "id": "Qi6GTChUN2YL",
        "outputId": "244700fc-2fb9-4671-bcf3-51303a749689"
      },
      "source": [
        "\n",
        "outlier =[]\n",
        "for x in df3['AVG_DOWNHOLE_PRESSURE']:\n",
        "    if ((x> up_lim) or (x<low_lim)):\n",
        "         outlier.append(x)\n",
        "print(' outlier in the dataset is', outlier)"
      ],
      "execution_count": 74,
      "outputs": [
        {
          "output_type": "stream",
          "text": [
            " outlier in the dataset is [142.19539375, 156.70460375223155, 126.43825649072753, 161.16830916666666, 131.50938291666668, 71.15459619560956, 49.450439538451974, 96.60870458333333, 135.62582895833333, 147.20070812765957, 164.07405290817022]\n"
          ],
          "name": "stdout"
        }
      ]
    },
    {
      "cell_type": "code",
      "metadata": {
        "colab": {
          "base_uri": "https://localhost:8080/",
          "height": 0
        },
        "id": "UDszJFf7N6Oi",
        "outputId": "5a507ed1-8376-4988-f349-7db1057f661f"
      },
      "source": [
        "print('The number of outliers in this dataset is ==>', len(outlier))"
      ],
      "execution_count": 75,
      "outputs": [
        {
          "output_type": "stream",
          "text": [
            "The number of outliers in this dataset is ==> 11\n"
          ],
          "name": "stdout"
        }
      ]
    },
    {
      "cell_type": "code",
      "metadata": {
        "id": "SJZi9aFQOInW"
      },
      "source": [
        "df_new = df3[~df3['AVG_DOWNHOLE_PRESSURE'].isin(outlier)]"
      ],
      "execution_count": 76,
      "outputs": []
    },
    {
      "cell_type": "code",
      "metadata": {
        "colab": {
          "base_uri": "https://localhost:8080/",
          "height": 0
        },
        "id": "PtLYYzacOVzj",
        "outputId": "6ff622e0-98f3-4b1b-98db-a9761e30d2d7"
      },
      "source": [
        "df_new.shape"
      ],
      "execution_count": 77,
      "outputs": [
        {
          "output_type": "execute_result",
          "data": {
            "text/plain": [
              "(5555, 11)"
            ]
          },
          "metadata": {
            "tags": []
          },
          "execution_count": 77
        }
      ]
    },
    {
      "cell_type": "code",
      "metadata": {
        "id": "C-8a3ASfOZjp"
      },
      "source": [
        "from sklearn.model_selection import train_test_split"
      ],
      "execution_count": 78,
      "outputs": []
    },
    {
      "cell_type": "code",
      "metadata": {
        "id": "ZfBbWh1bSgEG"
      },
      "source": [
        "train, test = train_test_split(df_new, test_size=0.2, random_state=42, shuffle=True)\n",
        "\n",
        "\n",
        "train.to_csv('/content/drive/MyDrive/Colab Notebooks/Bottom Hole Pressure//train.csv', index=False)\n",
        "test.to_csv('/content/drive/MyDrive/Colab Notebooks/Bottom Hole Pressure//test.csv', index=False)"
      ],
      "execution_count": 79,
      "outputs": []
    },
    {
      "cell_type": "code",
      "metadata": {
        "colab": {
          "base_uri": "https://localhost:8080/",
          "height": 0
        },
        "id": "gxRPv38wSymV",
        "outputId": "e34fafc0-b60c-4043-9842-522e9490edba"
      },
      "source": [
        "train.isnull().sum()"
      ],
      "execution_count": 80,
      "outputs": [
        {
          "output_type": "execute_result",
          "data": {
            "text/plain": [
              "AVG_DOWNHOLE_PRESSURE       0\n",
              "AVG_DOWNHOLE_TEMPERATURE    0\n",
              "AVG_DP_TUBING               0\n",
              "AVG_CHOKE_SIZE_P            0\n",
              "AVG_WHP_P                   0\n",
              "AVG_WHT_P                   0\n",
              "DP_CHOKE_SIZE               0\n",
              "BORE_GAS_VOL                0\n",
              "BORE_OIL_VOL                0\n",
              "BORE_WAT_VOL                0\n",
              "NPD_WELL_BORE_CODE          0\n",
              "dtype: int64"
            ]
          },
          "metadata": {
            "tags": []
          },
          "execution_count": 80
        }
      ]
    },
    {
      "cell_type": "code",
      "metadata": {
        "colab": {
          "base_uri": "https://localhost:8080/",
          "height": 0
        },
        "id": "RBRRgTYXS3fk",
        "outputId": "6b675a8b-5724-4904-a093-c471fdd90448"
      },
      "source": [
        "test.isnull().sum()"
      ],
      "execution_count": 83,
      "outputs": [
        {
          "output_type": "execute_result",
          "data": {
            "text/plain": [
              "AVG_DOWNHOLE_PRESSURE       0\n",
              "AVG_DOWNHOLE_TEMPERATURE    0\n",
              "AVG_DP_TUBING               0\n",
              "AVG_CHOKE_SIZE_P            0\n",
              "AVG_WHP_P                   0\n",
              "AVG_WHT_P                   0\n",
              "DP_CHOKE_SIZE               0\n",
              "BORE_GAS_VOL                0\n",
              "BORE_OIL_VOL                0\n",
              "BORE_WAT_VOL                0\n",
              "NPD_WELL_BORE_CODE          0\n",
              "dtype: int64"
            ]
          },
          "metadata": {
            "tags": []
          },
          "execution_count": 83
        }
      ]
    },
    {
      "cell_type": "code",
      "metadata": {
        "id": "RLN8DVyaS611"
      },
      "source": [
        "\n",
        "X = train.drop('AVG_DOWNHOLE_PRESSURE', axis = 1)\n",
        "y = train['AVG_DOWNHOLE_PRESSURE']\n",
        "\n",
        "\n",
        "X_train, X_test, y_train, y_test = train_test_split(X, y,test_size = 0.2, random_state=42)"
      ],
      "execution_count": 130,
      "outputs": []
    },
    {
      "cell_type": "code",
      "metadata": {
        "id": "o7vRZcYRUo96"
      },
      "source": [
        "from sklearn.preprocessing import MinMaxScaler\n",
        "from sklearn.pipeline import Pipeline\n",
        "\n",
        "pipeline = Pipeline([\n",
        "    ('std_scalar', MinMaxScaler())\n",
        "])\n",
        "\n",
        "X_train = pipeline.fit_transform(X_train)\n",
        "X_test = pipeline.transform(X_test)"
      ],
      "execution_count": 131,
      "outputs": []
    },
    {
      "cell_type": "code",
      "metadata": {
        "id": "OPeRgqC-TVzd"
      },
      "source": [
        "from sklearn import metrics\n",
        "from sklearn.model_selection import cross_val_score\n",
        "\n",
        "def cross_val(model):\n",
        "    pred = cross_val_score(model, X, y, cv=10)\n",
        "    return pred.mean()\n",
        "\n",
        "def print_evaluate(true, predicted):  \n",
        "    mae = metrics.mean_absolute_error(true, predicted)\n",
        "    mse = metrics.mean_squared_error(true, predicted)\n",
        "    rmse = np.sqrt(metrics.mean_squared_error(true, predicted))\n",
        "    r2_square = metrics.r2_score(true, predicted)\n",
        "    print('MAE:', mae)\n",
        "    print('MSE:', mse)\n",
        "    print('RMSE:', rmse)\n",
        "    print('R2 Square', r2_square)\n",
        "    print('__________________________________')\n",
        "    \n",
        "def evaluate(true, predicted):\n",
        "    mae = metrics.mean_absolute_error(true, predicted)\n",
        "    mse = metrics.mean_squared_error(true, predicted)\n",
        "    rmse = np.sqrt(metrics.mean_squared_error(true, predicted))\n",
        "    r2_square = metrics.r2_score(true, predicted)\n",
        "    return mae, mse, rmse, r2_square"
      ],
      "execution_count": 132,
      "outputs": []
    },
    {
      "cell_type": "code",
      "metadata": {
        "colab": {
          "base_uri": "https://localhost:8080/",
          "height": 0
        },
        "id": "ltdcv7IYT8q-",
        "outputId": "c4c5a57e-422e-4382-ddf4-b321a60355e2"
      },
      "source": [
        "\n",
        "from sklearn.linear_model import LinearRegression\n",
        "\n",
        "lin_reg = LinearRegression()\n",
        "lin_reg.fit(X_train,y_train)"
      ],
      "execution_count": 133,
      "outputs": [
        {
          "output_type": "execute_result",
          "data": {
            "text/plain": [
              "LinearRegression(copy_X=True, fit_intercept=True, n_jobs=None, normalize=False)"
            ]
          },
          "metadata": {
            "tags": []
          },
          "execution_count": 133
        }
      ]
    },
    {
      "cell_type": "code",
      "metadata": {
        "colab": {
          "base_uri": "https://localhost:8080/",
          "height": 0
        },
        "id": "T8iT0Ip3VGTJ",
        "outputId": "84d70b1b-1bab-45c8-aef3-6213f221de66"
      },
      "source": [
        "test_pred = lin_reg.predict(X_test)\n",
        "train_pred = lin_reg.predict(X_train)\n",
        "\n",
        "print('Test set evaluation:\\n_____________________________________')\n",
        "print_evaluate(y_test, test_pred)\n",
        "print('Train set evaluation:\\n_____________________________________')\n",
        "print_evaluate(y_train, train_pred)"
      ],
      "execution_count": 134,
      "outputs": [
        {
          "output_type": "stream",
          "text": [
            "Test set evaluation:\n",
            "_____________________________________\n",
            "MAE: 3.4336238389486956e-14\n",
            "MSE: 1.924529555446904e-27\n",
            "RMSE: 4.3869460396121855e-14\n",
            "R2 Square 1.0\n",
            "__________________________________\n",
            "Train set evaluation:\n",
            "_____________________________________\n",
            "MAE: 3.3938159362043606e-14\n",
            "MSE: 1.8993942126875544e-27\n",
            "RMSE: 4.358204002439026e-14\n",
            "R2 Square 1.0\n",
            "__________________________________\n"
          ],
          "name": "stdout"
        }
      ]
    },
    {
      "cell_type": "code",
      "metadata": {
        "id": "y_Y-O_EfWMg_"
      },
      "source": [
        ""
      ],
      "execution_count": null,
      "outputs": []
    },
    {
      "cell_type": "code",
      "metadata": {
        "id": "DeA2vRTpV8ad"
      },
      "source": [
        "\n",
        "pred = lin_reg.predict(X_test)"
      ],
      "execution_count": 135,
      "outputs": []
    },
    {
      "cell_type": "code",
      "metadata": {
        "colab": {
          "base_uri": "https://localhost:8080/",
          "height": 282
        },
        "id": "LJKcdLQ2WAc0",
        "outputId": "b6499145-950a-43ea-a62d-88b117149c37"
      },
      "source": [
        "plt.scatter(y_test, pred)"
      ],
      "execution_count": 136,
      "outputs": [
        {
          "output_type": "execute_result",
          "data": {
            "text/plain": [
              "<matplotlib.collections.PathCollection at 0x7f35076f1210>"
            ]
          },
          "metadata": {
            "tags": []
          },
          "execution_count": 136
        },
        {
          "output_type": "display_data",
          "data": {
            "image/png": "[encoded data removed]",
            "text/plain": [
              "<Figure size 432x288 with 1 Axes>"
            ]
          },
          "metadata": {
            "tags": [],
            "needs_background": "light"
          }
        }
      ]
    },
    {
      "cell_type": "code",
      "metadata": {
        "colab": {
          "base_uri": "https://localhost:8080/",
          "height": 359
        },
        "id": "gB2QNjZUTkez",
        "outputId": "3275d340-b662-4702-8434-a021e9219148"
      },
      "source": [
        "\n",
        "coeff_df = pd.DataFrame(lin_reg.coef_, X.columns, columns=['Coefficient'])\n",
        "coeff_df"
      ],
      "execution_count": 137,
      "outputs": [
        {
          "output_type": "execute_result",
          "data": {
            "text/html": [
              "<div>\n",
              "<style scoped>\n",
              "    .dataframe tbody tr th:only-of-type {\n",
              "        vertical-align: middle;\n",
              "    }\n",
              "\n",
              "    .dataframe tbody tr th {\n",
              "        vertical-align: top;\n",
              "    }\n",
              "\n",
              "    .dataframe thead th {\n",
              "        text-align: right;\n",
              "    }\n",
              "</style>\n",
              "<table border=\"1\" class=\"dataframe\">\n",
              "  <thead>\n",
              "    <tr style=\"text-align: right;\">\n",
              "      <th></th>\n",
              "      <th>Coefficient</th>\n",
              "    </tr>\n",
              "  </thead>\n",
              "  <tbody>\n",
              "    <tr>\n",
              "      <th>AVG_DOWNHOLE_TEMPERATURE</th>\n",
              "      <td>1.170461e-13</td>\n",
              "    </tr>\n",
              "    <tr>\n",
              "      <th>AVG_DP_TUBING</th>\n",
              "      <td>1.193464e+02</td>\n",
              "    </tr>\n",
              "    <tr>\n",
              "      <th>AVG_CHOKE_SIZE_P</th>\n",
              "      <td>-1.421085e-14</td>\n",
              "    </tr>\n",
              "    <tr>\n",
              "      <th>AVG_WHP_P</th>\n",
              "      <td>1.208885e+02</td>\n",
              "    </tr>\n",
              "    <tr>\n",
              "      <th>AVG_WHT_P</th>\n",
              "      <td>-1.030287e-13</td>\n",
              "    </tr>\n",
              "    <tr>\n",
              "      <th>DP_CHOKE_SIZE</th>\n",
              "      <td>-1.314504e-13</td>\n",
              "    </tr>\n",
              "    <tr>\n",
              "      <th>BORE_GAS_VOL</th>\n",
              "      <td>2.380318e-13</td>\n",
              "    </tr>\n",
              "    <tr>\n",
              "      <th>BORE_OIL_VOL</th>\n",
              "      <td>-1.918465e-13</td>\n",
              "    </tr>\n",
              "    <tr>\n",
              "      <th>BORE_WAT_VOL</th>\n",
              "      <td>4.618528e-14</td>\n",
              "    </tr>\n",
              "    <tr>\n",
              "      <th>NPD_WELL_BORE_CODE</th>\n",
              "      <td>-4.973799e-14</td>\n",
              "    </tr>\n",
              "  </tbody>\n",
              "</table>\n",
              "</div>"
            ],
            "text/plain": [
              "                           Coefficient\n",
              "AVG_DOWNHOLE_TEMPERATURE  1.170461e-13\n",
              "AVG_DP_TUBING             1.193464e+02\n",
              "AVG_CHOKE_SIZE_P         -1.421085e-14\n",
              "AVG_WHP_P                 1.208885e+02\n",
              "AVG_WHT_P                -1.030287e-13\n",
              "DP_CHOKE_SIZE            -1.314504e-13\n",
              "BORE_GAS_VOL              2.380318e-13\n",
              "BORE_OIL_VOL             -1.918465e-13\n",
              "BORE_WAT_VOL              4.618528e-14\n",
              "NPD_WELL_BORE_CODE       -4.973799e-14"
            ]
          },
          "metadata": {
            "tags": []
          },
          "execution_count": 137
        }
      ]
    },
    {
      "cell_type": "code",
      "metadata": {
        "id": "TIbzqr2YULTi"
      },
      "source": [
        "\n",
        "import seaborn as sns"
      ],
      "execution_count": 138,
      "outputs": []
    },
    {
      "cell_type": "code",
      "metadata": {
        "colab": {
          "base_uri": "https://localhost:8080/",
          "height": 80
        },
        "id": "d2PT5JTAWZJZ",
        "outputId": "54bf331e-3c66-4f6b-fec9-ce39766341bd"
      },
      "source": [
        "results_df = pd.DataFrame(data=[[\"Linear Regression\", *evaluate(y_test, test_pred) , cross_val(LinearRegression())]], \n",
        "                          columns=['Model', 'MAE', 'MSE', 'RMSE', 'R2 Square', \"Cross Validation\"])\n",
        "results_df"
      ],
      "execution_count": 139,
      "outputs": [
        {
          "output_type": "execute_result",
          "data": {
            "text/html": [
              "<div>\n",
              "<style scoped>\n",
              "    .dataframe tbody tr th:only-of-type {\n",
              "        vertical-align: middle;\n",
              "    }\n",
              "\n",
              "    .dataframe tbody tr th {\n",
              "        vertical-align: top;\n",
              "    }\n",
              "\n",
              "    .dataframe thead th {\n",
              "        text-align: right;\n",
              "    }\n",
              "</style>\n",
              "<table border=\"1\" class=\"dataframe\">\n",
              "  <thead>\n",
              "    <tr style=\"text-align: right;\">\n",
              "      <th></th>\n",
              "      <th>Model</th>\n",
              "      <th>MAE</th>\n",
              "      <th>MSE</th>\n",
              "      <th>RMSE</th>\n",
              "      <th>R2 Square</th>\n",
              "      <th>Cross Validation</th>\n",
              "    </tr>\n",
              "  </thead>\n",
              "  <tbody>\n",
              "    <tr>\n",
              "      <th>0</th>\n",
              "      <td>Linear Regression</td>\n",
              "      <td>3.433624e-14</td>\n",
              "      <td>1.924530e-27</td>\n",
              "      <td>4.386946e-14</td>\n",
              "      <td>1.0</td>\n",
              "      <td>1.0</td>\n",
              "    </tr>\n",
              "  </tbody>\n",
              "</table>\n",
              "</div>"
            ],
            "text/plain": [
              "               Model           MAE  ...  R2 Square  Cross Validation\n",
              "0  Linear Regression  3.433624e-14  ...        1.0               1.0\n",
              "\n",
              "[1 rows x 6 columns]"
            ]
          },
          "metadata": {
            "tags": []
          },
          "execution_count": 139
        }
      ]
    },
    {
      "cell_type": "code",
      "metadata": {
        "id": "vF1K9IJUXKfm"
      },
      "source": [
        "test2 = test.drop('AVG_DOWNHOLE_PRESSURE', axis = 1)"
      ],
      "execution_count": 140,
      "outputs": []
    },
    {
      "cell_type": "code",
      "metadata": {
        "id": "Y7_PEwZWYm7-"
      },
      "source": [
        "from sklearn.preprocessing import MinMaxScaler\n",
        "from sklearn.pipeline import Pipeline\n",
        "\n",
        "pipeline = Pipeline([\n",
        "    ('std_scalar', MinMaxScaler())\n",
        "])\n",
        "\n",
        "test2 = pipeline.fit_transform(test2)\n"
      ],
      "execution_count": 141,
      "outputs": []
    },
    {
      "cell_type": "code",
      "metadata": {
        "colab": {
          "base_uri": "https://localhost:8080/",
          "height": 142
        },
        "id": "Wddr-h9WWcoG",
        "outputId": "89353368-2034-46f9-c46e-b0ca45f12f5b"
      },
      "source": [
        "\n",
        "lin_reg_prediction =  lin_reg.predict(test2)\n",
        "\n",
        "pred_df = pd.DataFrame(lin_reg_prediction, columns=['MLR_Pred_AVG_DHP'])\n",
        "\n",
        "pred_df.tail(3)"
      ],
      "execution_count": 146,
      "outputs": [
        {
          "output_type": "execute_result",
          "data": {
            "text/html": [
              "<div>\n",
              "<style scoped>\n",
              "    .dataframe tbody tr th:only-of-type {\n",
              "        vertical-align: middle;\n",
              "    }\n",
              "\n",
              "    .dataframe tbody tr th {\n",
              "        vertical-align: top;\n",
              "    }\n",
              "\n",
              "    .dataframe thead th {\n",
              "        text-align: right;\n",
              "    }\n",
              "</style>\n",
              "<table border=\"1\" class=\"dataframe\">\n",
              "  <thead>\n",
              "    <tr style=\"text-align: right;\">\n",
              "      <th></th>\n",
              "      <th>MLR_Pred_AVG_DHP</th>\n",
              "    </tr>\n",
              "  </thead>\n",
              "  <tbody>\n",
              "    <tr>\n",
              "      <th>1108</th>\n",
              "      <td>229.345962</td>\n",
              "    </tr>\n",
              "    <tr>\n",
              "      <th>1109</th>\n",
              "      <td>252.328341</td>\n",
              "    </tr>\n",
              "    <tr>\n",
              "      <th>1110</th>\n",
              "      <td>211.555359</td>\n",
              "    </tr>\n",
              "  </tbody>\n",
              "</table>\n",
              "</div>"
            ],
            "text/plain": [
              "      MLR_Pred_AVG_DHP\n",
              "1108        229.345962\n",
              "1109        252.328341\n",
              "1110        211.555359"
            ]
          },
          "metadata": {
            "tags": []
          },
          "execution_count": 146
        }
      ]
    },
    {
      "cell_type": "code",
      "metadata": {
        "colab": {
          "base_uri": "https://localhost:8080/",
          "height": 340
        },
        "id": "fv_WqaP6YTCJ",
        "outputId": "48e81f52-2c56-4c96-c3b3-312022fbbf20"
      },
      "source": [
        "test.head()"
      ],
      "execution_count": 143,
      "outputs": [
        {
          "output_type": "execute_result",
          "data": {
            "text/html": [
              "<div>\n",
              "<style scoped>\n",
              "    .dataframe tbody tr th:only-of-type {\n",
              "        vertical-align: middle;\n",
              "    }\n",
              "\n",
              "    .dataframe tbody tr th {\n",
              "        vertical-align: top;\n",
              "    }\n",
              "\n",
              "    .dataframe thead th {\n",
              "        text-align: right;\n",
              "    }\n",
              "</style>\n",
              "<table border=\"1\" class=\"dataframe\">\n",
              "  <thead>\n",
              "    <tr style=\"text-align: right;\">\n",
              "      <th></th>\n",
              "      <th>AVG_DOWNHOLE_PRESSURE</th>\n",
              "      <th>AVG_DOWNHOLE_TEMPERATURE</th>\n",
              "      <th>AVG_DP_TUBING</th>\n",
              "      <th>AVG_CHOKE_SIZE_P</th>\n",
              "      <th>AVG_WHP_P</th>\n",
              "      <th>AVG_WHT_P</th>\n",
              "      <th>DP_CHOKE_SIZE</th>\n",
              "      <th>BORE_GAS_VOL</th>\n",
              "      <th>BORE_OIL_VOL</th>\n",
              "      <th>BORE_WAT_VOL</th>\n",
              "      <th>NPD_WELL_BORE_CODE</th>\n",
              "    </tr>\n",
              "    <tr>\n",
              "      <th>DATEPRD</th>\n",
              "      <th></th>\n",
              "      <th></th>\n",
              "      <th></th>\n",
              "      <th></th>\n",
              "      <th></th>\n",
              "      <th></th>\n",
              "      <th></th>\n",
              "      <th></th>\n",
              "      <th></th>\n",
              "      <th></th>\n",
              "      <th></th>\n",
              "    </tr>\n",
              "  </thead>\n",
              "  <tbody>\n",
              "    <tr>\n",
              "      <th>2015-12-14</th>\n",
              "      <td>266.196082</td>\n",
              "      <td>99.559042</td>\n",
              "      <td>238.012727</td>\n",
              "      <td>100.000000</td>\n",
              "      <td>28.183355</td>\n",
              "      <td>87.930346</td>\n",
              "      <td>1.979001</td>\n",
              "      <td>26908.07</td>\n",
              "      <td>177.31</td>\n",
              "      <td>3123.60</td>\n",
              "      <td>5351</td>\n",
              "    </tr>\n",
              "    <tr>\n",
              "      <th>2015-06-01</th>\n",
              "      <td>265.502420</td>\n",
              "      <td>99.519340</td>\n",
              "      <td>235.247186</td>\n",
              "      <td>100.000000</td>\n",
              "      <td>30.255234</td>\n",
              "      <td>86.691789</td>\n",
              "      <td>1.784515</td>\n",
              "      <td>31604.86</td>\n",
              "      <td>212.13</td>\n",
              "      <td>3575.05</td>\n",
              "      <td>5351</td>\n",
              "    </tr>\n",
              "    <tr>\n",
              "      <th>2009-12-03</th>\n",
              "      <td>243.218281</td>\n",
              "      <td>105.989281</td>\n",
              "      <td>178.405730</td>\n",
              "      <td>40.264494</td>\n",
              "      <td>64.812550</td>\n",
              "      <td>84.778802</td>\n",
              "      <td>32.192943</td>\n",
              "      <td>467067.52</td>\n",
              "      <td>3300.40</td>\n",
              "      <td>1595.67</td>\n",
              "      <td>5351</td>\n",
              "    </tr>\n",
              "    <tr>\n",
              "      <th>2015-04-25</th>\n",
              "      <td>243.699553</td>\n",
              "      <td>108.110749</td>\n",
              "      <td>204.347667</td>\n",
              "      <td>52.703812</td>\n",
              "      <td>39.351885</td>\n",
              "      <td>67.092811</td>\n",
              "      <td>10.419663</td>\n",
              "      <td>49280.04</td>\n",
              "      <td>340.53</td>\n",
              "      <td>822.81</td>\n",
              "      <td>7405</td>\n",
              "    </tr>\n",
              "    <tr>\n",
              "      <th>2013-04-18</th>\n",
              "      <td>242.469514</td>\n",
              "      <td>101.074942</td>\n",
              "      <td>208.137408</td>\n",
              "      <td>70.209588</td>\n",
              "      <td>34.332106</td>\n",
              "      <td>86.407296</td>\n",
              "      <td>5.277823</td>\n",
              "      <td>164156.91</td>\n",
              "      <td>1039.90</td>\n",
              "      <td>3391.98</td>\n",
              "      <td>5351</td>\n",
              "    </tr>\n",
              "  </tbody>\n",
              "</table>\n",
              "</div>"
            ],
            "text/plain": [
              "            AVG_DOWNHOLE_PRESSURE  ...  NPD_WELL_BORE_CODE\n",
              "DATEPRD                            ...                    \n",
              "2015-12-14             266.196082  ...                5351\n",
              "2015-06-01             265.502420  ...                5351\n",
              "2009-12-03             243.218281  ...                5351\n",
              "2015-04-25             243.699553  ...                7405\n",
              "2013-04-18             242.469514  ...                5351\n",
              "\n",
              "[5 rows x 11 columns]"
            ]
          },
          "metadata": {
            "tags": []
          },
          "execution_count": 143
        }
      ]
    },
    {
      "cell_type": "code",
      "metadata": {
        "id": "DpgKJFThaz-i"
      },
      "source": [
        "pred_df = pred_df.reset_index(drop = True)\n",
        "test = test.reset_index(drop = True)"
      ],
      "execution_count": 148,
      "outputs": []
    },
    {
      "cell_type": "code",
      "metadata": {
        "id": "PYUvVv7uXgSB"
      },
      "source": [
        "\n",
        "pred_df['AVG_DOWNHOLE_PRESSURE'] = test['AVG_DOWNHOLE_PRESSURE']"
      ],
      "execution_count": 149,
      "outputs": []
    },
    {
      "cell_type": "code",
      "metadata": {
        "colab": {
          "base_uri": "https://localhost:8080/",
          "height": 419
        },
        "id": "MxwbmipVX9QV",
        "outputId": "2e2eca66-5eac-404f-e2f3-b4f77c1846c4"
      },
      "source": [
        "pred_df"
      ],
      "execution_count": 150,
      "outputs": [
        {
          "output_type": "execute_result",
          "data": {
            "text/html": [
              "<div>\n",
              "<style scoped>\n",
              "    .dataframe tbody tr th:only-of-type {\n",
              "        vertical-align: middle;\n",
              "    }\n",
              "\n",
              "    .dataframe tbody tr th {\n",
              "        vertical-align: top;\n",
              "    }\n",
              "\n",
              "    .dataframe thead th {\n",
              "        text-align: right;\n",
              "    }\n",
              "</style>\n",
              "<table border=\"1\" class=\"dataframe\">\n",
              "  <thead>\n",
              "    <tr style=\"text-align: right;\">\n",
              "      <th></th>\n",
              "      <th>MLR_Pred_AVG_DHP</th>\n",
              "      <th>AVG_DOWNHOLE_PRESSURE</th>\n",
              "    </tr>\n",
              "  </thead>\n",
              "  <tbody>\n",
              "    <tr>\n",
              "      <th>0</th>\n",
              "      <td>264.150476</td>\n",
              "      <td>266.196082</td>\n",
              "    </tr>\n",
              "    <tr>\n",
              "      <th>1</th>\n",
              "      <td>263.493669</td>\n",
              "      <td>265.502420</td>\n",
              "    </tr>\n",
              "    <tr>\n",
              "      <th>2</th>\n",
              "      <td>241.427828</td>\n",
              "      <td>243.218281</td>\n",
              "    </tr>\n",
              "    <tr>\n",
              "      <th>3</th>\n",
              "      <td>241.158622</td>\n",
              "      <td>243.699553</td>\n",
              "    </tr>\n",
              "    <tr>\n",
              "      <th>4</th>\n",
              "      <td>239.731601</td>\n",
              "      <td>242.469514</td>\n",
              "    </tr>\n",
              "    <tr>\n",
              "      <th>...</th>\n",
              "      <td>...</td>\n",
              "      <td>...</td>\n",
              "    </tr>\n",
              "    <tr>\n",
              "      <th>1106</th>\n",
              "      <td>222.837072</td>\n",
              "      <td>225.185911</td>\n",
              "    </tr>\n",
              "    <tr>\n",
              "      <th>1107</th>\n",
              "      <td>237.493148</td>\n",
              "      <td>240.462514</td>\n",
              "    </tr>\n",
              "    <tr>\n",
              "      <th>1108</th>\n",
              "      <td>229.345962</td>\n",
              "      <td>231.957339</td>\n",
              "    </tr>\n",
              "    <tr>\n",
              "      <th>1109</th>\n",
              "      <td>252.328341</td>\n",
              "      <td>254.154211</td>\n",
              "    </tr>\n",
              "    <tr>\n",
              "      <th>1110</th>\n",
              "      <td>211.555359</td>\n",
              "      <td>215.026801</td>\n",
              "    </tr>\n",
              "  </tbody>\n",
              "</table>\n",
              "<p>1111 rows × 2 columns</p>\n",
              "</div>"
            ],
            "text/plain": [
              "      MLR_Pred_AVG_DHP  AVG_DOWNHOLE_PRESSURE\n",
              "0           264.150476             266.196082\n",
              "1           263.493669             265.502420\n",
              "2           241.427828             243.218281\n",
              "3           241.158622             243.699553\n",
              "4           239.731601             242.469514\n",
              "...                ...                    ...\n",
              "1106        222.837072             225.185911\n",
              "1107        237.493148             240.462514\n",
              "1108        229.345962             231.957339\n",
              "1109        252.328341             254.154211\n",
              "1110        211.555359             215.026801\n",
              "\n",
              "[1111 rows x 2 columns]"
            ]
          },
          "metadata": {
            "tags": []
          },
          "execution_count": 150
        }
      ]
    },
    {
      "cell_type": "code",
      "metadata": {
        "colab": {
          "base_uri": "https://localhost:8080/",
          "height": 0
        },
        "id": "VYsDByfcbNdB",
        "outputId": "6edea344-503f-4a17-9a0d-5e9db9b4e631"
      },
      "source": [
        "from sklearn.linear_model import RANSACRegressor\n",
        "\n",
        "model = RANSACRegressor(base_estimator=LinearRegression(), max_trials=100)\n",
        "model.fit(X_train, y_train)\n",
        "\n",
        "test_pred = model.predict(X_test)\n",
        "train_pred = model.predict(X_train)\n",
        "\n",
        "print('Test set evaluation:\\n_____________________________________')\n",
        "print_evaluate(y_test, test_pred)\n",
        "print('====================================')\n",
        "print('Train set evaluation:\\n_____________________________________')\n",
        "print_evaluate(y_train, train_pred)"
      ],
      "execution_count": 154,
      "outputs": [
        {
          "output_type": "stream",
          "text": [
            "Test set evaluation:\n",
            "_____________________________________\n",
            "MAE: 1.2625121545631656e-13\n",
            "MSE: 1.737801121242778e-26\n",
            "RMSE: 1.3182568494958704e-13\n",
            "R2 Square 1.0\n",
            "__________________________________\n",
            "====================================\n",
            "Train set evaluation:\n",
            "_____________________________________\n",
            "MAE: 1.248156758445759e-13\n",
            "MSE: 1.6961619858867712e-26\n",
            "RMSE: 1.302367838165075e-13\n",
            "R2 Square 1.0\n",
            "__________________________________\n"
          ],
          "name": "stdout"
        }
      ]
    },
    {
      "cell_type": "code",
      "metadata": {
        "colab": {
          "base_uri": "https://localhost:8080/",
          "height": 142
        },
        "id": "n3elXwiwblGZ",
        "outputId": "33ec6382-3db8-4ee3-f5b3-7fc9967d9146"
      },
      "source": [
        "results_df_2 = pd.DataFrame(data=[[\"Robust Regression\", *evaluate(y_test, test_pred) , cross_val(RANSACRegressor())]], \n",
        "                            columns=['Model', 'MAE', 'MSE', 'RMSE', 'R2 Square', \"Cross Validation\"])\n",
        "results_df = results_df.append(results_df_2, ignore_index=True)\n",
        "results_df"
      ],
      "execution_count": 155,
      "outputs": [
        {
          "output_type": "execute_result",
          "data": {
            "text/html": [
              "<div>\n",
              "<style scoped>\n",
              "    .dataframe tbody tr th:only-of-type {\n",
              "        vertical-align: middle;\n",
              "    }\n",
              "\n",
              "    .dataframe tbody tr th {\n",
              "        vertical-align: top;\n",
              "    }\n",
              "\n",
              "    .dataframe thead th {\n",
              "        text-align: right;\n",
              "    }\n",
              "</style>\n",
              "<table border=\"1\" class=\"dataframe\">\n",
              "  <thead>\n",
              "    <tr style=\"text-align: right;\">\n",
              "      <th></th>\n",
              "      <th>Model</th>\n",
              "      <th>MAE</th>\n",
              "      <th>MSE</th>\n",
              "      <th>RMSE</th>\n",
              "      <th>R2 Square</th>\n",
              "      <th>Cross Validation</th>\n",
              "    </tr>\n",
              "  </thead>\n",
              "  <tbody>\n",
              "    <tr>\n",
              "      <th>0</th>\n",
              "      <td>Linear Regression</td>\n",
              "      <td>3.433624e-14</td>\n",
              "      <td>1.924530e-27</td>\n",
              "      <td>4.386946e-14</td>\n",
              "      <td>1.0</td>\n",
              "      <td>1.0</td>\n",
              "    </tr>\n",
              "    <tr>\n",
              "      <th>1</th>\n",
              "      <td>Robust Regression</td>\n",
              "      <td>1.262512e-13</td>\n",
              "      <td>1.737801e-26</td>\n",
              "      <td>1.318257e-13</td>\n",
              "      <td>1.0</td>\n",
              "      <td>1.0</td>\n",
              "    </tr>\n",
              "    <tr>\n",
              "      <th>2</th>\n",
              "      <td>Robust Regression</td>\n",
              "      <td>1.262512e-13</td>\n",
              "      <td>1.737801e-26</td>\n",
              "      <td>1.318257e-13</td>\n",
              "      <td>1.0</td>\n",
              "      <td>1.0</td>\n",
              "    </tr>\n",
              "  </tbody>\n",
              "</table>\n",
              "</div>"
            ],
            "text/plain": [
              "               Model           MAE  ...  R2 Square  Cross Validation\n",
              "0  Linear Regression  3.433624e-14  ...        1.0               1.0\n",
              "1  Robust Regression  1.262512e-13  ...        1.0               1.0\n",
              "2  Robust Regression  1.262512e-13  ...        1.0               1.0\n",
              "\n",
              "[3 rows x 6 columns]"
            ]
          },
          "metadata": {
            "tags": []
          },
          "execution_count": 155
        }
      ]
    },
    {
      "cell_type": "code",
      "metadata": {
        "colab": {
          "base_uri": "https://localhost:8080/",
          "height": 419
        },
        "id": "kIW5T4FebtCO",
        "outputId": "c88f56e5-e67e-4fe3-f3ec-d63c9c862188"
      },
      "source": [
        "robust_prediction =  model.predict(test2)\n",
        "\n",
        "pred_df2 = pd.DataFrame(robust_prediction, columns=['RobReg_Pred_Rainfall'])\n",
        "\n",
        "pred_df['RobReg_Pred_Rainfall'] = pred_df2['RobReg_Pred_Rainfall'] \n",
        "pred_df"
      ],
      "execution_count": 156,
      "outputs": [
        {
          "output_type": "execute_result",
          "data": {
            "text/html": [
              "<div>\n",
              "<style scoped>\n",
              "    .dataframe tbody tr th:only-of-type {\n",
              "        vertical-align: middle;\n",
              "    }\n",
              "\n",
              "    .dataframe tbody tr th {\n",
              "        vertical-align: top;\n",
              "    }\n",
              "\n",
              "    .dataframe thead th {\n",
              "        text-align: right;\n",
              "    }\n",
              "</style>\n",
              "<table border=\"1\" class=\"dataframe\">\n",
              "  <thead>\n",
              "    <tr style=\"text-align: right;\">\n",
              "      <th></th>\n",
              "      <th>MLR_Pred_AVG_DHP</th>\n",
              "      <th>AVG_DOWNHOLE_PRESSURE</th>\n",
              "      <th>RobReg_Pred_Rainfall</th>\n",
              "    </tr>\n",
              "  </thead>\n",
              "  <tbody>\n",
              "    <tr>\n",
              "      <th>0</th>\n",
              "      <td>264.150476</td>\n",
              "      <td>266.196082</td>\n",
              "      <td>264.150476</td>\n",
              "    </tr>\n",
              "    <tr>\n",
              "      <th>1</th>\n",
              "      <td>263.493669</td>\n",
              "      <td>265.502420</td>\n",
              "      <td>263.493669</td>\n",
              "    </tr>\n",
              "    <tr>\n",
              "      <th>2</th>\n",
              "      <td>241.427828</td>\n",
              "      <td>243.218281</td>\n",
              "      <td>241.427828</td>\n",
              "    </tr>\n",
              "    <tr>\n",
              "      <th>3</th>\n",
              "      <td>241.158622</td>\n",
              "      <td>243.699553</td>\n",
              "      <td>241.158622</td>\n",
              "    </tr>\n",
              "    <tr>\n",
              "      <th>4</th>\n",
              "      <td>239.731601</td>\n",
              "      <td>242.469514</td>\n",
              "      <td>239.731601</td>\n",
              "    </tr>\n",
              "    <tr>\n",
              "      <th>...</th>\n",
              "      <td>...</td>\n",
              "      <td>...</td>\n",
              "      <td>...</td>\n",
              "    </tr>\n",
              "    <tr>\n",
              "      <th>1106</th>\n",
              "      <td>222.837072</td>\n",
              "      <td>225.185911</td>\n",
              "      <td>222.837072</td>\n",
              "    </tr>\n",
              "    <tr>\n",
              "      <th>1107</th>\n",
              "      <td>237.493148</td>\n",
              "      <td>240.462514</td>\n",
              "      <td>237.493148</td>\n",
              "    </tr>\n",
              "    <tr>\n",
              "      <th>1108</th>\n",
              "      <td>229.345962</td>\n",
              "      <td>231.957339</td>\n",
              "      <td>229.345962</td>\n",
              "    </tr>\n",
              "    <tr>\n",
              "      <th>1109</th>\n",
              "      <td>252.328341</td>\n",
              "      <td>254.154211</td>\n",
              "      <td>252.328341</td>\n",
              "    </tr>\n",
              "    <tr>\n",
              "      <th>1110</th>\n",
              "      <td>211.555359</td>\n",
              "      <td>215.026801</td>\n",
              "      <td>211.555359</td>\n",
              "    </tr>\n",
              "  </tbody>\n",
              "</table>\n",
              "<p>1111 rows × 3 columns</p>\n",
              "</div>"
            ],
            "text/plain": [
              "      MLR_Pred_AVG_DHP  AVG_DOWNHOLE_PRESSURE  RobReg_Pred_Rainfall\n",
              "0           264.150476             266.196082            264.150476\n",
              "1           263.493669             265.502420            263.493669\n",
              "2           241.427828             243.218281            241.427828\n",
              "3           241.158622             243.699553            241.158622\n",
              "4           239.731601             242.469514            239.731601\n",
              "...                ...                    ...                   ...\n",
              "1106        222.837072             225.185911            222.837072\n",
              "1107        237.493148             240.462514            237.493148\n",
              "1108        229.345962             231.957339            229.345962\n",
              "1109        252.328341             254.154211            252.328341\n",
              "1110        211.555359             215.026801            211.555359\n",
              "\n",
              "[1111 rows x 3 columns]"
            ]
          },
          "metadata": {
            "tags": []
          },
          "execution_count": 156
        }
      ]
    },
    {
      "cell_type": "code",
      "metadata": {
        "colab": {
          "base_uri": "https://localhost:8080/",
          "height": 0
        },
        "id": "6FeR6Ja-cJ1-",
        "outputId": "170ac775-844d-494d-d0dd-75b136521df0"
      },
      "source": [
        "from sklearn.ensemble import RandomForestRegressor\n",
        "\n",
        "rf_reg = RandomForestRegressor(n_estimators=1000)\n",
        "rf_reg.fit(X_train, y_train)\n",
        "\n",
        "test_pred = rf_reg.predict(X_test)\n",
        "train_pred = rf_reg.predict(X_train)\n",
        "\n",
        "print('Test set evaluation:\\n_____________________________________')\n",
        "print_evaluate(y_test, test_pred)\n",
        "\n",
        "print('Train set evaluation:\\n_____________________________________')\n",
        "print_evaluate(y_train, train_pred)"
      ],
      "execution_count": 157,
      "outputs": [
        {
          "output_type": "stream",
          "text": [
            "Test set evaluation:\n",
            "_____________________________________\n",
            "MAE: 0.6742355557224647\n",
            "MSE: 3.0741312059708306\n",
            "RMSE: 1.7533200523494934\n",
            "R2 Square 0.9931009386890588\n",
            "__________________________________\n",
            "Train set evaluation:\n",
            "_____________________________________\n",
            "MAE: 0.21769924567840634\n",
            "MSE: 0.27021448790054026\n",
            "RMSE: 0.5198215923762116\n",
            "R2 Square 0.999365878616562\n",
            "__________________________________\n"
          ],
          "name": "stdout"
        }
      ]
    },
    {
      "cell_type": "code",
      "metadata": {
        "colab": {
          "base_uri": "https://localhost:8080/",
          "height": 173
        },
        "id": "8k1Et-EgcUqI",
        "outputId": "57bf8dc9-98c0-40ec-aa40-b2269a39dfcf"
      },
      "source": [
        "results_df_2 = pd.DataFrame(data=[[\"Random Forest Regressor\", *evaluate(y_test, test_pred), 0]], \n",
        "                            columns=['Model', 'MAE', 'MSE', 'RMSE', 'R2 Square', 'Cross Validation'])\n",
        "results_df = results_df.append(results_df_2, ignore_index=True)\n",
        "results_df"
      ],
      "execution_count": 158,
      "outputs": [
        {
          "output_type": "execute_result",
          "data": {
            "text/html": [
              "<div>\n",
              "<style scoped>\n",
              "    .dataframe tbody tr th:only-of-type {\n",
              "        vertical-align: middle;\n",
              "    }\n",
              "\n",
              "    .dataframe tbody tr th {\n",
              "        vertical-align: top;\n",
              "    }\n",
              "\n",
              "    .dataframe thead th {\n",
              "        text-align: right;\n",
              "    }\n",
              "</style>\n",
              "<table border=\"1\" class=\"dataframe\">\n",
              "  <thead>\n",
              "    <tr style=\"text-align: right;\">\n",
              "      <th></th>\n",
              "      <th>Model</th>\n",
              "      <th>MAE</th>\n",
              "      <th>MSE</th>\n",
              "      <th>RMSE</th>\n",
              "      <th>R2 Square</th>\n",
              "      <th>Cross Validation</th>\n",
              "    </tr>\n",
              "  </thead>\n",
              "  <tbody>\n",
              "    <tr>\n",
              "      <th>0</th>\n",
              "      <td>Linear Regression</td>\n",
              "      <td>3.433624e-14</td>\n",
              "      <td>1.924530e-27</td>\n",
              "      <td>4.386946e-14</td>\n",
              "      <td>1.000000</td>\n",
              "      <td>1.0</td>\n",
              "    </tr>\n",
              "    <tr>\n",
              "      <th>1</th>\n",
              "      <td>Robust Regression</td>\n",
              "      <td>1.262512e-13</td>\n",
              "      <td>1.737801e-26</td>\n",
              "      <td>1.318257e-13</td>\n",
              "      <td>1.000000</td>\n",
              "      <td>1.0</td>\n",
              "    </tr>\n",
              "    <tr>\n",
              "      <th>2</th>\n",
              "      <td>Robust Regression</td>\n",
              "      <td>1.262512e-13</td>\n",
              "      <td>1.737801e-26</td>\n",
              "      <td>1.318257e-13</td>\n",
              "      <td>1.000000</td>\n",
              "      <td>1.0</td>\n",
              "    </tr>\n",
              "    <tr>\n",
              "      <th>3</th>\n",
              "      <td>Random Forest Regressor</td>\n",
              "      <td>6.742356e-01</td>\n",
              "      <td>3.074131e+00</td>\n",
              "      <td>1.753320e+00</td>\n",
              "      <td>0.993101</td>\n",
              "      <td>0.0</td>\n",
              "    </tr>\n",
              "  </tbody>\n",
              "</table>\n",
              "</div>"
            ],
            "text/plain": [
              "                     Model           MAE  ...  R2 Square  Cross Validation\n",
              "0        Linear Regression  3.433624e-14  ...   1.000000               1.0\n",
              "1        Robust Regression  1.262512e-13  ...   1.000000               1.0\n",
              "2        Robust Regression  1.262512e-13  ...   1.000000               1.0\n",
              "3  Random Forest Regressor  6.742356e-01  ...   0.993101               0.0\n",
              "\n",
              "[4 rows x 6 columns]"
            ]
          },
          "metadata": {
            "tags": []
          },
          "execution_count": 158
        }
      ]
    },
    {
      "cell_type": "code",
      "metadata": {
        "colab": {
          "base_uri": "https://localhost:8080/",
          "height": 419
        },
        "id": "-MTo7hGNcZ00",
        "outputId": "363b1989-4223-41eb-d3d0-66a422431df9"
      },
      "source": [
        "rf_reg_prediction =  rf_reg.predict(test2)\n",
        "\n",
        "pred_df2 = pd.DataFrame(rf_reg_prediction, columns=['rf_reg_Pred_Rainfall'])\n",
        "\n",
        "pred_df['rf_reg_Pred_Rainfall'] = pred_df2['rf_reg_Pred_Rainfall'] \n",
        "pred_df"
      ],
      "execution_count": 160,
      "outputs": [
        {
          "output_type": "execute_result",
          "data": {
            "text/html": [
              "<div>\n",
              "<style scoped>\n",
              "    .dataframe tbody tr th:only-of-type {\n",
              "        vertical-align: middle;\n",
              "    }\n",
              "\n",
              "    .dataframe tbody tr th {\n",
              "        vertical-align: top;\n",
              "    }\n",
              "\n",
              "    .dataframe thead th {\n",
              "        text-align: right;\n",
              "    }\n",
              "</style>\n",
              "<table border=\"1\" class=\"dataframe\">\n",
              "  <thead>\n",
              "    <tr style=\"text-align: right;\">\n",
              "      <th></th>\n",
              "      <th>MLR_Pred_AVG_DHP</th>\n",
              "      <th>AVG_DOWNHOLE_PRESSURE</th>\n",
              "      <th>RobReg_Pred_Rainfall</th>\n",
              "      <th>rf_reg_Pred_Rainfall</th>\n",
              "    </tr>\n",
              "  </thead>\n",
              "  <tbody>\n",
              "    <tr>\n",
              "      <th>0</th>\n",
              "      <td>264.150476</td>\n",
              "      <td>266.196082</td>\n",
              "      <td>264.150476</td>\n",
              "      <td>265.411255</td>\n",
              "    </tr>\n",
              "    <tr>\n",
              "      <th>1</th>\n",
              "      <td>263.493669</td>\n",
              "      <td>265.502420</td>\n",
              "      <td>263.493669</td>\n",
              "      <td>263.652235</td>\n",
              "    </tr>\n",
              "    <tr>\n",
              "      <th>2</th>\n",
              "      <td>241.427828</td>\n",
              "      <td>243.218281</td>\n",
              "      <td>241.427828</td>\n",
              "      <td>239.523693</td>\n",
              "    </tr>\n",
              "    <tr>\n",
              "      <th>3</th>\n",
              "      <td>241.158622</td>\n",
              "      <td>243.699553</td>\n",
              "      <td>241.158622</td>\n",
              "      <td>241.498765</td>\n",
              "    </tr>\n",
              "    <tr>\n",
              "      <th>4</th>\n",
              "      <td>239.731601</td>\n",
              "      <td>242.469514</td>\n",
              "      <td>239.731601</td>\n",
              "      <td>240.378508</td>\n",
              "    </tr>\n",
              "    <tr>\n",
              "      <th>...</th>\n",
              "      <td>...</td>\n",
              "      <td>...</td>\n",
              "      <td>...</td>\n",
              "      <td>...</td>\n",
              "    </tr>\n",
              "    <tr>\n",
              "      <th>1106</th>\n",
              "      <td>222.837072</td>\n",
              "      <td>225.185911</td>\n",
              "      <td>222.837072</td>\n",
              "      <td>222.101712</td>\n",
              "    </tr>\n",
              "    <tr>\n",
              "      <th>1107</th>\n",
              "      <td>237.493148</td>\n",
              "      <td>240.462514</td>\n",
              "      <td>237.493148</td>\n",
              "      <td>237.723420</td>\n",
              "    </tr>\n",
              "    <tr>\n",
              "      <th>1108</th>\n",
              "      <td>229.345962</td>\n",
              "      <td>231.957339</td>\n",
              "      <td>229.345962</td>\n",
              "      <td>228.062478</td>\n",
              "    </tr>\n",
              "    <tr>\n",
              "      <th>1109</th>\n",
              "      <td>252.328341</td>\n",
              "      <td>254.154211</td>\n",
              "      <td>252.328341</td>\n",
              "      <td>251.624983</td>\n",
              "    </tr>\n",
              "    <tr>\n",
              "      <th>1110</th>\n",
              "      <td>211.555359</td>\n",
              "      <td>215.026801</td>\n",
              "      <td>211.555359</td>\n",
              "      <td>212.959262</td>\n",
              "    </tr>\n",
              "  </tbody>\n",
              "</table>\n",
              "<p>1111 rows × 4 columns</p>\n",
              "</div>"
            ],
            "text/plain": [
              "      MLR_Pred_AVG_DHP  ...  rf_reg_Pred_Rainfall\n",
              "0           264.150476  ...            265.411255\n",
              "1           263.493669  ...            263.652235\n",
              "2           241.427828  ...            239.523693\n",
              "3           241.158622  ...            241.498765\n",
              "4           239.731601  ...            240.378508\n",
              "...                ...  ...                   ...\n",
              "1106        222.837072  ...            222.101712\n",
              "1107        237.493148  ...            237.723420\n",
              "1108        229.345962  ...            228.062478\n",
              "1109        252.328341  ...            251.624983\n",
              "1110        211.555359  ...            212.959262\n",
              "\n",
              "[1111 rows x 4 columns]"
            ]
          },
          "metadata": {
            "tags": []
          },
          "execution_count": 160
        }
      ]
    },
    {
      "cell_type": "code",
      "metadata": {
        "id": "0NIyKQwcfg90"
      },
      "source": [
        ""
      ],
      "execution_count": null,
      "outputs": []
    }
  ]
}